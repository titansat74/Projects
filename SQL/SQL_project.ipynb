{
 "cells": [
  {
   "cell_type": "code",
   "execution_count": 4,
   "metadata": {},
   "outputs": [],
   "source": [
    "import pandas as pd\n",
    "from sqlalchemy import create_engine\n",
    "engine = create_engine('sqlite:///sqlite_db_pythonsqlite.db')"
   ]
  },
  {
   "cell_type": "markdown",
   "metadata": {},
   "source": [
    "### <font color='black'> Produce a list of facilities with a total revenue less than 1000. The output of facility name and total revenue, sorted by revenue. Remember that there's a different cost for guests and members!</font>"
   ]
  },
  {
   "cell_type": "code",
   "execution_count": 53,
   "metadata": {},
   "outputs": [
    {
     "name": "stdout",
     "output_type": "stream",
     "text": [
      "    facilityname  revenue\n",
      "0     Pool Table      270\n",
      "1  Snooker Table      240\n",
      "2   Table Tennis      180\n"
     ]
    }
   ],
   "source": [
    "with engine.connect() as con:\n",
    "    rs = con.execute(\"SELECT f.name AS facilityname, \\\n",
    "                     SUM(CASE WHEN b.memid = 0 THEN b.slots*f.guestcost \\\n",
    "                        ELSE b.slots*f.membercost END) AS revenue \\\n",
    "                     FROM Facilities AS f \\\n",
    "                     INNER JOIN Bookings AS b \\\n",
    "                     ON b.facid = f.facid \\\n",
    "                     GROUP BY facilityname \\\n",
    "                     HAVING revenue < 1000 \\\n",
    "                     ORDER BY revenue DESC;\")\n",
    "    df = pd.DataFrame(rs.fetchall())\n",
    "    df.columns = rs.keys()\n",
    "print(df)"
   ]
  },
  {
   "cell_type": "markdown",
   "metadata": {},
   "source": [
    "### <font color='black'> Produce a report of members and who recommended them in alphabetic surname, firstname order</font>"
   ]
  },
  {
   "cell_type": "code",
   "execution_count": 64,
   "metadata": {},
   "outputs": [
    {
     "name": "stdout",
     "output_type": "stream",
     "text": [
      "                      member       recommendedby\n",
      "0            Bader, Florence    Stibbons, Ponder\n",
      "1                Baker, Anne    Stibbons, Ponder\n",
      "2             Baker, Timothy     Farrell, Jemima\n",
      "3                Boothe, Tim         Rownam, Tim\n",
      "4            Butters, Gerald       Smith, Darren\n",
      "5               Coplin, Joan      Baker, Timothy\n",
      "6             Crumpet, Erica        Smith, Tracy\n",
      "7                Dare, Nancy    Joplette, Janice\n",
      "8             Farrell, David                None\n",
      "9            Farrell, Jemima                None\n",
      "10              GUEST, GUEST                None\n",
      "11          Genting, Matthew     Butters, Gerald\n",
      "12                Hunt, John  Purview, Millicent\n",
      "13              Jones, David    Joplette, Janice\n",
      "14            Jones, Douglas        Jones, David\n",
      "15          Joplette, Janice       Smith, Darren\n",
      "16           Mackenzie, Anna       Smith, Darren\n",
      "17             Owen, Charles       Smith, Darren\n",
      "18             Pinker, David     Farrell, Jemima\n",
      "19        Purview, Millicent        Smith, Tracy\n",
      "20               Rownam, Tim                None\n",
      "21         Rumney, Henrietta    Genting, Matthew\n",
      "22         Sarwin, Ramnaresh     Bader, Florence\n",
      "23             Smith, Darren                None\n",
      "24             Smith, Darren                None\n",
      "25               Smith, Jack       Smith, Darren\n",
      "26              Smith, Tracy                None\n",
      "27          Stibbons, Ponder       Tracy, Burton\n",
      "28             Tracy, Burton                None\n",
      "29      Tupperware, Hyacinth                None\n",
      "30  Worthington-Smyth, Henry        Smith, Tracy\n"
     ]
    }
   ],
   "source": [
    "with engine.connect() as con:\n",
    "    rs = con.execute(\"SELECT m.surname || ', ' || m.firstname AS member, \\\n",
    "                     r.surname || ', ' || r.firstname AS recommendedby \\\n",
    "                     FROM Members AS m \\\n",
    "                     LEFT JOIN Members AS r \\\n",
    "                     ON m.recommendedby = r.memid \\\n",
    "                     ORDER BY member;\")\n",
    "    df = pd.DataFrame(rs.fetchall())\n",
    "    df.columns = rs.keys()\n",
    "print(df)"
   ]
  },
  {
   "cell_type": "markdown",
   "metadata": {},
   "source": [
    "### <font color='black'> Find the facilities with their usage by member, but not guests</font>"
   ]
  },
  {
   "cell_type": "code",
   "execution_count": 76,
   "metadata": {},
   "outputs": [
    {
     "name": "stdout",
     "output_type": "stream",
     "text": [
      "            membername     facilityname  usage\n",
      "0           Tim Rownam       Pool Table    241\n",
      "1         Darren Smith  Badminton Court    132\n",
      "2        Timothy Baker       Pool Table     85\n",
      "3           Tim Rownam   Massage Room 1     80\n",
      "4       Anna Mackenzie       Pool Table     70\n",
      "..                 ...              ...    ...\n",
      "197    Matthew Genting   Tennis Court 1      1\n",
      "198  Millicent Purview    Snooker Table      1\n",
      "199  Millicent Purview     Squash Court      1\n",
      "200  Millicent Purview   Tennis Court 2      1\n",
      "201    Ponder Stibbons   Tennis Court 1      1\n",
      "\n",
      "[202 rows x 3 columns]\n"
     ]
    }
   ],
   "source": [
    "with engine.connect() as con:\n",
    "    rs = con.execute(\"SELECT m.firstname || ' ' || m.surname AS membername, \\\n",
    "                      f.name AS facilityname, \\\n",
    "                      COUNT(b.bookid) AS usage \\\n",
    "                      FROM Facilities AS f \\\n",
    "                      INNER JOIN Bookings AS b \\\n",
    "                      ON f.facid = b.facid \\\n",
    "                      INNER JOIN Members AS m \\\n",
    "                      ON b.memid = m.memid \\\n",
    "                      WHERE b.memid != 0 \\\n",
    "                      GROUP BY membername, facilityname \\\n",
    "                      ORDER BY usage DESC\")\n",
    "    df = pd.DataFrame(rs.fetchall())\n",
    "    df.columns = rs.keys()\n",
    "print(df)"
   ]
  },
  {
   "cell_type": "markdown",
   "metadata": {},
   "source": [
    "### <font color='black'> Find the facilities usage by month, but not guests</font>"
   ]
  },
  {
   "cell_type": "code",
   "execution_count": 77,
   "metadata": {},
   "outputs": [
    {
     "name": "stdout",
     "output_type": "stream",
     "text": [
      "         membername     facilityname month  usage\n",
      "0      Darren Smith       Pool Table    07    103\n",
      "1      Darren Smith   Massage Room 1    07     77\n",
      "2      Darren Smith    Snooker Table    07     68\n",
      "3       Tracy Smith   Tennis Court 1    07     65\n",
      "4      Darren Smith  Badminton Court    07     51\n",
      "5      Darren Smith     Table Tennis    07     48\n",
      "6        Tim Rownam   Tennis Court 2    07     41\n",
      "7      Darren Smith     Squash Court    07     23\n",
      "8   Janice Joplette   Massage Room 2    07      4\n",
      "9        Tim Rownam       Pool Table    08    272\n",
      "10  Janice Joplette    Snooker Table    08    154\n",
      "11   Gerald Butters   Massage Room 1    08    153\n",
      "12       Nancy Dare     Table Tennis    08    143\n",
      "13     Darren Smith  Badminton Court    08    132\n",
      "14   Gerald Butters   Tennis Court 1    08    111\n",
      "15       Tim Boothe   Tennis Court 2    08    109\n",
      "16     Burton Tracy     Squash Court    08     85\n",
      "17       Nancy Dare   Massage Room 2    08      9\n",
      "18     David Pinker       Pool Table    09    408\n",
      "19   Anna Mackenzie    Snooker Table    09    199\n",
      "20     David Pinker     Table Tennis    09    194\n",
      "21       Tim Boothe   Massage Room 1    09    191\n",
      "22     Darren Smith  Badminton Court    09    161\n",
      "23     David Pinker   Tennis Court 1    09    132\n",
      "24      David Jones   Tennis Court 2    09    126\n",
      "25  Janice Joplette     Squash Court    09     87\n",
      "26       Nancy Dare   Massage Room 2    09     14\n"
     ]
    }
   ],
   "source": [
    "with engine.connect() as con:\n",
    "    rs = con.execute(\"SELECT m.firstname || ' ' || m.surname AS membername, \\\n",
    "                      f.name AS facilityname, \\\n",
    "                      strftime('%m',b.starttime) AS month, \\\n",
    "                      COUNT(b.bookid) AS usage \\\n",
    "                      FROM Facilities AS f \\\n",
    "                      INNER JOIN Bookings AS b \\\n",
    "                      ON f.facid = b.facid \\\n",
    "                      INNER JOIN Members AS m \\\n",
    "                      ON b.memid = m.memid \\\n",
    "                      WHERE b.memid != 0 \\\n",
    "                      GROUP BY month, facilityname \\\n",
    "                      ORDER BY month ASC, usage DESC\")\n",
    "    df = pd.DataFrame(rs.fetchall())\n",
    "    df.columns = rs.keys()\n",
    "print(df)"
   ]
  },
  {
   "cell_type": "code",
   "execution_count": null,
   "metadata": {},
   "outputs": [],
   "source": []
  }
 ],
 "metadata": {
  "kernelspec": {
   "display_name": "Python 3",
   "language": "python",
   "name": "python3"
  },
  "language_info": {
   "codemirror_mode": {
    "name": "ipython",
    "version": 3
   },
   "file_extension": ".py",
   "mimetype": "text/x-python",
   "name": "python",
   "nbconvert_exporter": "python",
   "pygments_lexer": "ipython3",
   "version": "3.7.4"
  }
 },
 "nbformat": 4,
 "nbformat_minor": 2
}
