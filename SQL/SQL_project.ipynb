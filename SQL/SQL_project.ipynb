{
 "cells": [
  {
   "cell_type": "code",
   "execution_count": 25,
   "metadata": {},
   "outputs": [],
   "source": [
    "import pandas as pd"
   ]
  },
  {
   "cell_type": "code",
   "execution_count": 27,
   "metadata": {},
   "outputs": [],
   "source": [
    "from sqlalchemy import create_engine\n",
    "engine = create_engine('sqlite:///sqlite_db_pythonsqlite.db')"
   ]
  },
  {
   "cell_type": "code",
   "execution_count": 41,
   "metadata": {},
   "outputs": [
    {
     "name": "stdout",
     "output_type": "stream",
     "text": [
      "1098.9000000000008\n"
     ]
    }
   ],
   "source": [
    "with engine.connect() as con:\n",
    "#    rs = con.execute(\"SELECT COUNT(bookid), name, SUM(membercost) AS revenue \\\n",
    "#                     FROM Bookings \\\n",
    "#                     INNER JOIN Facilities \\\n",
    "#                     ON Bookings.facid = Facilities.facid \\\n",
    "#                     WHERE membercost != 0 AND name = 'Massage Room 2'\\\n",
    "#                     GROUP BY name\")\n",
    "    rs = con.execute(\"SELECT bookid, name, membercost AS revenue \\\n",
    "                     FROM Bookings \\\n",
    "                     INNER JOIN Facilities \\\n",
    "                     ON Bookings.facid = Facilities.facid \\\n",
    "                     WHERE membercost != 0 AND name = 'Massage Room 2'\\\n",
    "                     \")\n",
    "#    df = pd.DataFrame(rs.fetchmany(size=10))\n",
    "    df = pd.DataFrame(rs.fetchall())\n",
    "    df.columns = rs.keys()\n",
    "#print(df)\n",
    "print(df['revenue'].sum())"
   ]
  },
  {
   "cell_type": "code",
   "execution_count": 42,
   "metadata": {},
   "outputs": [
    {
     "data": {
      "text/plain": [
       "111"
      ]
     },
     "execution_count": 42,
     "metadata": {},
     "output_type": "execute_result"
    }
   ],
   "source": [
    "len(df)"
   ]
  },
  {
   "cell_type": "code",
   "execution_count": null,
   "metadata": {},
   "outputs": [],
   "source": []
  }
 ],
 "metadata": {
  "kernelspec": {
   "display_name": "Python 3",
   "language": "python",
   "name": "python3"
  },
  "language_info": {
   "codemirror_mode": {
    "name": "ipython",
    "version": 3
   },
   "file_extension": ".py",
   "mimetype": "text/x-python",
   "name": "python",
   "nbconvert_exporter": "python",
   "pygments_lexer": "ipython3",
   "version": "3.7.4"
  }
 },
 "nbformat": 4,
 "nbformat_minor": 2
}
