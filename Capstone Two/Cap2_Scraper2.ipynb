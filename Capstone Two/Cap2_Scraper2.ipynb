{
 "cells": [
  {
   "cell_type": "markdown",
   "metadata": {},
   "source": [
    "# NFL Data Scraper 2"
   ]
  },
  {
   "cell_type": "code",
   "execution_count": 16,
   "metadata": {},
   "outputs": [],
   "source": [
    "teams = {'Atlanta Falcons':'atl','Buffalo Bills':'buf','Carolina Panthers':'car','Chicago Bears':'chi',\n",
    "         'Cincinnati Bengals':'cin','Cleveland Browns':'cle','Indianapolis Colts':'clt',\n",
    "         'Arizona Cardinals':'crd','Dallas Cowboys':'dal','Denver Broncos':'den','Detroit Lions':'det',\n",
    "         'Green Bay Packers':'gnb','Houston Texans':'htx','Jacksonville Jaguars':'jax',\n",
    "         'Kansas City Chiefs':'kan','Miami Dolphins':'mia','Minnesota Vikings':'min','New Orleans Saints':'nor',\n",
    "         'New England Patriots':'nwe','New York Giants':'nyg','New York Jets':'nyj','Tennessee Titans':'oti',\n",
    "         'Philadelphia Eagles':'phi','Pittsburgh Steelers':'pit','Oakland Raiders':'rai',\n",
    "         'Las Vegas Raiders':'rai','St. Louis Rams':'ram','Los Angeles Rams':'ram','Baltimore Ravens':'rav',\n",
    "         'San Diego Chargers':'sdg','Los Angeles Chargers':'sdg','Seattle Seahawks':'sea',\n",
    "         'San Francisco 49ers':'sfo','Tampa Bay Buccaneers':'tam','Washington Redskins':'was'}\n",
    "org = set(teams.values())"
   ]
  },
  {
   "cell_type": "markdown",
   "metadata": {},
   "source": [
    "**<font color='teal'>Load in gamecodes and preliminary dataframe.</font>**"
   ]
  },
  {
   "cell_type": "code",
   "execution_count": 5,
   "metadata": {},
   "outputs": [],
   "source": [
    "import requests\n",
    "import re\n",
    "import pandas as pd\n",
    "import pickle\n",
    "from datetime import time, timedelta\n",
    "\n",
    "year = '2011'\n",
    "path = 'data/gamecodes.data'\n",
    "with open(path, 'rb') as f:\n",
    "    gcodes = pickle.load(f)\n",
    "    \n",
    "path = 'data/df_step1_'+year+'.data'\n",
    "with open(path, 'rb') as f:\n",
    "    dfyear = pickle.load(f)"
   ]
  },
  {
   "cell_type": "code",
   "execution_count": 3,
   "metadata": {},
   "outputs": [],
   "source": [
    "def pbp_to_tdelt(x):\n",
    "    if ':' in x:\n",
    "        x = '00:'+x\n",
    "        x = pd.to_timedelta(x,unit='m')\n",
    "        return x\n",
    "    else:\n",
    "        return x"
   ]
  },
  {
   "cell_type": "code",
   "execution_count": 4,
   "metadata": {},
   "outputs": [
    {
     "data": {
      "text/plain": [
       "2560"
      ]
     },
     "execution_count": 4,
     "metadata": {},
     "output_type": "execute_result"
    }
   ],
   "source": [
    "len(gcodes)"
   ]
  },
  {
   "cell_type": "markdown",
   "metadata": {},
   "source": [
    "**<font color='teal'>Set up gameinfo dataframe.</font>**"
   ]
  },
  {
   "cell_type": "code",
   "execution_count": null,
   "metadata": {},
   "outputs": [],
   "source": [
    "ginfo = pd.DataFrame(columns=['Code','Surface','Temperature','Over/Under'])\n",
    "ginfo['Code'] = gcodes\n",
    "ginfo = ginfo.set_index(['Code'])"
   ]
  },
  {
   "cell_type": "markdown",
   "metadata": {},
   "source": [
    "**<font color='teal'>Much of the data from Pro Football Reference is contained within comments. Thus, the spider is set up to crawl through commented code as well.</font>**"
   ]
  },
  {
   "cell_type": "code",
   "execution_count": null,
   "metadata": {},
   "outputs": [],
   "source": [
    "comm = re.compile('<!--|-->')"
   ]
  },
  {
   "cell_type": "markdown",
   "metadata": {},
   "source": [
    "**<font color='teal'>Extract gamecodes for the given year.</font>**"
   ]
  },
  {
   "cell_type": "code",
   "execution_count": 20,
   "metadata": {},
   "outputs": [],
   "source": [
    "gc = [gcodes[i] for i in range(len(gcodes)) \n",
    "      if (((gcodes[i][0:4] == year) & (gcodes[i][4:6] != '01')) | (gcodes[i][0:6] == (str(int(year)+1)+'01')))]\n",
    "#gc = ['201110160was']"
   ]
  },
  {
   "cell_type": "code",
   "execution_count": null,
   "metadata": {
    "scrolled": false
   },
   "outputs": [],
   "source": [
    "for gamecode in gc:\n",
    "    url = 'https://www.pro-football-reference.com/boxscores/'+gamecode+'.htm'\n",
    "    res = requests.get(url)\n",
    "\n",
    "    table = pd.read_html(res.text,attrs={'class':'linescore nohover stats_table no_freeze'},flavor='bs4')\n",
    "    table = table[0]\n",
    "## Team Designation\n",
    "    awayteam = table.iloc[0,1]\n",
    "    away = teams[awayteam]\n",
    "    hometeam = table.iloc[1,1]\n",
    "    home = teams[hometeam]\n",
    "# Points\n",
    "    dfyear.loc[(away,gamecode),'Points'] = int(table.iloc[0,6])\n",
    "    dfyear.loc[(home,gamecode),'Points'] = int(table.iloc[1,6])\n",
    "    dfyear.loc[(away,gamecode),'Points_Opp'] = int(table.iloc[1,6])\n",
    "    dfyear.loc[(home,gamecode),'Points_Opp'] = int(table.iloc[0,6])\n",
    "\n",
    "# Game Info\n",
    "    table=pd.read_html(comm.sub(\"\",res.text),attrs={'id':'game_info'},flavor='bs4')\n",
    "    table = table[0]\n",
    "    table = table.set_index(table.columns[0])\n",
    "    ginfo.loc[gamecode,'Surface'] = table.loc['Surface',1]\n",
    "    ginfo.loc[gamecode,'Over/Under'] = float(table.loc['Over/Under',1].split(' ')[0])\n",
    "    if 'Weather' in table.index: ginfo.loc[gamecode,'Temperature'] = int(table.loc['Weather',1].split(' ')[0])\n",
    "    \n",
    "    table=pd.read_html(comm.sub(\"\",res.text),attrs={'id':'team_stats'},flavor='bs4')\n",
    "    table = table[0]\n",
    "# Offensive & Defensive Rushing & Passing Yards    \n",
    "    dfyear.loc[(away,gamecode),'Yds_Off_Rush'] = int(table.iloc[1,1].split('-')[1])\n",
    "    dfyear.loc[(home,gamecode),'Yds_Off_Rush'] = int(table.iloc[1,2].split('-')[1])\n",
    "    dfyear.loc[(away,gamecode),'Yds_Off_Pass'] = int(table.iloc[2,1].split('-')[2])\n",
    "    dfyear.loc[(home,gamecode),'Yds_Off_Pass'] = int(table.iloc[2,2].split('-')[2])\n",
    "    dfyear.loc[(away,gamecode),'Yds_Def_Rush'] = int(table.iloc[1,2].split('-')[1])\n",
    "    dfyear.loc[(home,gamecode),'Yds_Def_Rush'] = int(table.iloc[1,1].split('-')[1])\n",
    "    dfyear.loc[(away,gamecode),'Yds_Def_Pass'] = int(table.iloc[2,2].split('-')[2])\n",
    "    dfyear.loc[(home,gamecode),'Yds_Def_Pass'] = int(table.iloc[2,1].split('-')[2])\n",
    "# Time of Possession    \n",
    "    dfyear.loc[(away,gamecode),'Possession'] = \\\n",
    "        float(table.iloc[11,1].split(':')[0])+float(table.iloc[11,1].split(':')[1])/60.0\n",
    "    dfyear.loc[(home,gamecode),'Possession'] = \\\n",
    "        float(table.iloc[11,2].split(':')[0])+float(table.iloc[11,2].split(':')[1])/60.0\n",
    "# Penalties\n",
    "    dfyear.loc[(away,gamecode),'Yds_Pen'] = int(table.iloc[8,1].split('-')[1])\n",
    "    dfyear.loc[(home,gamecode),'Yds_Pen'] = int(table.iloc[8,2].split('-')[1])\n",
    "# Defensive Sacks\n",
    "    dfyear.loc[(away,gamecode),'Sacks_Def'] = int(table.iloc[3,2].split('-')[0])\n",
    "    dfyear.loc[(home,gamecode),'Sacks_Def'] = int(table.iloc[3,1].split('-')[0])\n",
    "# Turnovers\n",
    "    dfyear.loc[(away,gamecode),'TO_Gained'] = int(table.iloc[7,2])\n",
    "    dfyear.loc[(home,gamecode),'TO_Gained'] = int(table.iloc[7,1])\n",
    "    dfyear.loc[(away,gamecode),'TO_Lost'] = int(table.iloc[7,1])\n",
    "    dfyear.loc[(home,gamecode),'TO_Lost'] = int(table.iloc[7,2])\n",
    "# Touchdowns (Defensive & Special Teams to be added later)\n",
    "    dfyear.loc[(away,gamecode),'TD'] = int(table.iloc[1,1].split('-')[2])+int(table.iloc[2,1].split('-')[3])\n",
    "    dfyear.loc[(home,gamecode),'TD'] = int(table.iloc[1,2].split('-')[2])+int(table.iloc[2,2].split('-')[3])\n",
    "    \n",
    "# Defense\n",
    "    table=pd.read_html(comm.sub(\"\",res.text),attrs={'id':'player_defense'},flavor='bs4')\n",
    "    table = table[0]\n",
    "# Remove multilevel, NANs, separator row\n",
    "    table = table.droplevel(level=0,axis=1)\n",
    "    table = table.dropna(subset=['Tm']).iloc[:,1:]\n",
    "    table = table[table.iloc[:,0]!='Tm']\n",
    "\n",
    "# Rename columns to remove column name duplication\n",
    "    cols = list(table.columns)\n",
    "    cols[3] = 'TD_Int'\n",
    "    cols[2] = 'Yds_Int'\n",
    "    cols[13] = 'Yds_Fum'\n",
    "    cols[14] = 'TD_Fum'\n",
    "    table.columns = cols\n",
    "\n",
    "# Change value types to numeric types\n",
    "    cols = [list(table.columns[1:6]),table.columns[6],list(table.columns[7:])]\n",
    "    for grp in cols:\n",
    "        table[grp]=table[grp].apply(pd.to_numeric)\n",
    "        \n",
    "# Group by team to calculate team values        \n",
    "    grouped = table.groupby(table['Tm'])\n",
    "    \n",
    "# Add Defensive Touchdowns\n",
    "    dftd=grouped['TD_Int'].sum()+grouped['TD_Fum'].sum()\n",
    "    dfyear.loc[(away,gamecode),'TD'] += dftd[0]\n",
    "    dfyear.loc[(home,gamecode),'TD'] += dftd[1]\n",
    "    dfyear.loc[(away,gamecode),'TD_on_Def'] = dftd[0]\n",
    "    dfyear.loc[(home,gamecode),'TD_on_Def'] = dftd[1]\n",
    "    \n",
    "# Tackles for Loss\n",
    "    tfl=grouped['TFL'].sum()\n",
    "    dfyear.loc[(away,gamecode),'Tackles_Loss'] = tfl[0]\n",
    "    dfyear.loc[(home,gamecode),'Tackles_Loss'] = tfl[1]\n",
    "\n",
    "# Kick/Punt Returns\n",
    "    table=pd.read_html(comm.sub(\"\",res.text),attrs={'id':'returns'},flavor='bs4')\n",
    "    table = table[0]\n",
    "    table = table.droplevel(level=0,axis=1)\n",
    "    table = table.dropna(subset=['Tm']).iloc[:,1:]\n",
    "    table = table[table.iloc[:,0]!='Tm']\n",
    "    cols = list(table.columns)\n",
    "    cols[2] = 'Yds_KR'\n",
    "    cols[7] = 'Yds_PR'\n",
    "    cols[5] = 'Lng_KR'\n",
    "    cols[10] = 'Lng_PR'\n",
    "    cols[4] = 'TD_KR'\n",
    "    cols[9] = 'TD_PR'\n",
    "    table.columns = cols\n",
    "    cols = [list(table.columns[1:3]),table.columns[3],list(table.columns[4:8]),table.columns[8],\n",
    "            list(table.columns[9:])]\n",
    "    for grp in cols:\n",
    "        table[grp]=table[grp].apply(pd.to_numeric)\n",
    "\n",
    "    grouped = table.groupby(table['Tm'])\n",
    "    kptd=grouped['TD_KR'].sum()+grouped['TD_PR'].sum()\n",
    "    kyds=grouped['Yds_KR'].sum()\n",
    "    knum=grouped['Rt'].sum()\n",
    "    pyds=grouped['Yds_PR'].sum()\n",
    "    pnum=grouped['Ret'].sum()\n",
    "    if (kptd.shape[0] == 0):\n",
    "        a_kptd = h_kptd = a_knum = h_knum = a_kyds = h_kyds = a_pyds = h_pyds = a_pnum = h_pnum = 0\n",
    "    elif (kptd.shape[0] == 1):\n",
    "        if (away.upper() == table.loc[0,'Tm']):\n",
    "            a_kptd = kptd[0]\n",
    "            a_knum = knum[0]\n",
    "            a_kyds = kyds[0]\n",
    "            a_pyds = pyds[0]\n",
    "            a_pnum = pnum[0]\n",
    "            h_kptd = h_knum = h_kyds = h_pyds = h_pnum = 0\n",
    "        elif (home.upper() == table.loc[0,'Tm']):\n",
    "            h_kptd = kptd[0]\n",
    "            h_knum = knum[0]\n",
    "            h_kyds = kyds[0]\n",
    "            h_pyds = pyds[0]\n",
    "            h_pnum = pnum[0]\n",
    "            a_kptd = a_knum = a_kyds = a_pyds = a_pnum = 0\n",
    "    else:\n",
    "            a_kptd = kptd[0]\n",
    "            a_knum = knum[0]\n",
    "            a_kyds = kyds[0]\n",
    "            a_pyds = pyds[0]\n",
    "            a_pnum = pnum[0]\n",
    "            h_kptd = kptd[1]\n",
    "            h_knum = knum[1]\n",
    "            h_kyds = kyds[1]\n",
    "            h_pyds = pyds[1]\n",
    "            h_pnum = pnum[1]\n",
    "    dfyear.loc[(away,gamecode),'TD'] += a_kptd\n",
    "    dfyear.loc[(home,gamecode),'TD'] += h_kptd\n",
    "    if (a_knum > 0):\n",
    "        dfyear.loc[(away,gamecode),'Yds_per_Kickret'] = float(a_kyds)/float(a_knum)\n",
    "    else:\n",
    "        dfyear.loc[(away,gamecode),'Yds_per_Kickret'] = 0.0\n",
    "    if (h_knum > 0):\n",
    "        dfyear.loc[(home,gamecode),'Yds_per_Kickret'] = float(h_kyds)/float(h_knum)\n",
    "    else:\n",
    "        dfyear.loc[(home,gamecode),'Yds_per_Kickret'] = 0.0\n",
    "    if (a_pnum > 0):\n",
    "        dfyear.loc[(away,gamecode),'Yds_per_Puntret'] = float(a_pyds)/float(a_pnum)\n",
    "    else:\n",
    "        dfyear.loc[(away,gamecode),'Yds_per_Puntret'] = 0.0\n",
    "    if (h_pnum > 0):\n",
    "        dfyear.loc[(home,gamecode),'Yds_per_Puntret'] = float(h_pyds)/float(h_pnum)\n",
    "    else:\n",
    "        dfyear.loc[(home,gamecode),'Yds_per_Puntret'] = 0.0\n",
    "\n",
    "# Field Goals\n",
    "    table=pd.read_html(comm.sub(\"\",res.text),attrs={'id':'kicking'},flavor='bs4')\n",
    "    table = table[0]\n",
    "    table = table.droplevel(level=0,axis=1)\n",
    "    table = table.dropna(subset=['Tm']).iloc[:,1:]\n",
    "    table = table[table.iloc[:,0]!='Tm']\n",
    "    cols = [list(table.columns[1:7]),table.columns[7],table.columns[8]]\n",
    "    for grp in cols:\n",
    "        table[grp]=table[grp].apply(pd.to_numeric)\n",
    "    grouped = table.groupby(table['Tm'])\n",
    "    fgm=grouped['FGM'].sum()\n",
    "    fga=grouped['FGA'].sum()\n",
    "    dfyear.loc[(away,gamecode),'FG_Made'] = fgm[0]\n",
    "    dfyear.loc[(home,gamecode),'FG_Made'] = fgm[1]\n",
    "    dfyear.loc[(away,gamecode),'FG_Att'] = fga[0]\n",
    "    dfyear.loc[(home,gamecode),'FG_Att'] = fga[1]\n",
    "\n",
    "# Total Plays & Set up Drive and Play-by-Play tables for Red Zone calculation\n",
    "    table=pd.read_html(comm.sub(\"\",res.text),attrs={'id':'home_drives'},flavor='bs4')\n",
    "    hdrive = table[0].rename({'#':'Drive'},axis=1)\n",
    "    hdrive.set_index('Drive',inplace=True)\n",
    "    dfyear.loc[(home,gamecode),'Plays'] = hdrive['Plays'].sum()\n",
    "    table=pd.read_html(comm.sub(\"\",res.text),attrs={'id':'vis_drives'},flavor='bs4')\n",
    "    adrive = table[0].rename({'#':'Drive'},axis=1)\n",
    "    adrive.set_index('Drive',inplace=True)\n",
    "    dfyear.loc[(away,gamecode),'Plays'] = adrive['Plays'].sum()\n",
    "\n",
    "    hdrive['LOS']=hdrive['LOS'].fillna(home.upper()+' 25')\n",
    "    position=hdrive['LOS'].str.split(expand=True)\n",
    "    hdrive.drop('LOS',axis=1)\n",
    "    hdrive[['Side','Marker']] = position\n",
    "    hdrive=hdrive.drop('LOS',axis=1)\n",
    "    adrive['LOS']=adrive['LOS'].fillna(away.upper()+' 25')\n",
    "    position=adrive['LOS'].str.split(expand=True)\n",
    "    adrive.drop('LOS',axis=1)\n",
    "    adrive[['Side','Marker']] = position\n",
    "    cols=['Quarter','Time','Side','Marker','Plays','Length','Yds','Result']\n",
    "    hdrive=hdrive.reindex(columns=cols,copy=False)\n",
    "    hdrive[hdrive['Side']=='50']=hdrive[hdrive['Side']=='50'].assign(Marker = '50') # Case where ball is on 50 yard line\n",
    "    hdrive[hdrive['Side']=='50']=hdrive[hdrive['Side']=='50'].assign(Side = home.upper())\n",
    "    hdrive['Marker']=hdrive['Marker'].astype('int')\n",
    "    adrive[adrive['Side']=='50']=adrive[adrive['Side']=='50'].assign(Marker = '50') # Case where ball is on 50 yard line\n",
    "    adrive[adrive['Side']=='50']=adrive[adrive['Side']=='50'].assign(Side = home.upper())\n",
    "    adrive=adrive.reindex(columns=cols,copy=False)\n",
    "    adrive['Marker']=adrive['Marker'].astype('int')\n",
    "    \n",
    "    intcols=['Plays','Yds']\n",
    "    timecols=['Time','Length']\n",
    "    strcols=['Quarter','Result']\n",
    "    for colu in intcols:\n",
    "        hdrive[colu] = hdrive[colu].astype('int')\n",
    "        adrive[colu] = adrive[colu].astype('int')\n",
    "    for colu in strcols:\n",
    "        hdrive[colu] = hdrive[colu].astype('str')\n",
    "        adrive[colu] = adrive[colu].astype('str')\n",
    "    for colu in timecols:\n",
    "        for drive in range(1,hdrive.shape[0]+1):\n",
    "            entry = hdrive.loc[drive,colu].split(':')\n",
    "            hdrive.loc[drive,colu] = timedelta(hours=0,minutes=int(entry[0]),seconds=int(entry[1]))\n",
    "        for drive in range(1,adrive.shape[0]+1):\n",
    "            entry = adrive.loc[drive,colu].split(':')\n",
    "            adrive.loc[drive,colu] = timedelta(hours=0,minutes=int(entry[0]),seconds=int(entry[1]))\n",
    "\n",
    "    table=pd.read_html(comm.sub(\"\",res.text),attrs={'id':'pbp'},flavor='bs4')\n",
    "    pbp=table[0].iloc[:,0:6]\n",
    "    pbp=pbp.dropna()\n",
    "    pbp=pbp[pbp['Time'].apply(lambda x: True if set(':').issubset(x) else False)]\n",
    "    pbp['Time'] = pbp['Time'].apply(pbp_to_tdelt)\n",
    "    position=pbp['Location'].str.split(expand=True)\n",
    "    position=position.iloc[:,0:2]\n",
    "    pbp=pbp.drop('Location',axis=1)\n",
    "    pbp[['Team','Location']] = position\n",
    "    cols=['Quarter','Time','Down','ToGo','Team','Location','Detail']\n",
    "    pbp=pbp.reindex(columns=cols,copy=False)\n",
    "    pbp=pbp.reset_index(drop=True)\n",
    "    pbp[pbp['Team']=='50']=pbp[pbp['Team']=='50'].assign(Location = '50') # Case where ball is on 50 yard line\n",
    "    pbp[pbp['Team']=='50']=pbp[pbp['Team']=='50'].assign(Team = home.upper())\n",
    "    pbp['Location']=pbp['Location'].astype('int')    \n",
    "    pbp[pbp['Quarter']=='OT']=pbp[pbp['Quarter']=='OT'].assign(Quarter = '5') # Case of Overtime\n",
    "\n",
    "# Red Zone Routine\n",
    "\n",
    "    team = {'H':home, 'A':away}\n",
    "    drive = {home:1, away:1}\n",
    "    df = {home:hdrive, away:adrive}\n",
    "    rz_conv = {home:0, away:0}\n",
    "    rz_att = {home:0, away:0}\n",
    "#    starttime = timedelta(hours=0,minutes=15,seconds=0)\n",
    "    row = 0\n",
    "\n",
    "#            Red Zone starts at 20 yard line\n",
    "    while ((drive[home] <= hdrive.shape[0]) | (drive[away] <= adrive.shape[0])):\n",
    "        stop = False\n",
    "        if ((drive[home] <= hdrive.shape[0]) & (drive[away] <= adrive.shape[0])):\n",
    "#            if (hdrive.loc[drive[home],'Time'] == starttime):\n",
    "#                poss = 'H'\n",
    "#            elif (adrive.loc[drive[away],'Time'] == starttime):\n",
    "#                poss = 'A'\n",
    "            if (hdrive.loc[drive[home],'Quarter'] < adrive.loc[drive[away],'Quarter']):\n",
    "                poss = 'H'\n",
    "                starttime = hdrive.loc[drive[home],'Time']\n",
    "            elif (adrive.loc[drive[away],'Quarter'] < hdrive.loc[drive[home],'Quarter']):\n",
    "                poss = 'A'\n",
    "                starttime = adrive.loc[drive[away],'Time']\n",
    "            else:\n",
    "                if (hdrive.loc[drive[home],'Time'] > adrive.loc[drive[away],'Time']):\n",
    "                    poss = 'H'\n",
    "                    starttime = hdrive.loc[drive[home],'Time']\n",
    "                else:\n",
    "                    poss = 'A'\n",
    "                    starttime = adrive.loc[drive[away],'Time']\n",
    "        else:\n",
    "            if (drive[home] <= hdrive.shape[0]):\n",
    "                poss = 'H'\n",
    "                starttime = hdrive.loc[drive[home],'Time']\n",
    "            else:\n",
    "                poss = 'A'\n",
    "                starttime = adrive.loc[drive[away],'Time']\n",
    "        rz = False   # Not in Red Zone\n",
    "        bquar = int(df[team[poss]].loc[drive[team[poss]],'Quarter']) # Beginning quarter of drive\n",
    "        if (df[team[poss]].loc[drive[team[poss]],'Length'] <= starttime): # Set time for next drive\n",
    "            endtime = starttime - df[team[poss]].loc[drive[team[poss]],'Length']\n",
    "            equar = bquar                                            # Ending quarter of drive\n",
    "        else:    \n",
    "            endtime = (timedelta(hours=0,minutes=15,seconds=0) -  # Assuming 15 minute quarters\n",
    "                (df[team[poss]].loc[drive[team[poss]],'Length'] - starttime))\n",
    "            equar = bquar+1                                            # Ending quarter of drive\n",
    "#        print(team[poss],drive[team[poss]],starttime,endtime)\n",
    "\n",
    "        if (df[team[poss]].loc[drive[team[poss]],'Side'] != team[poss].upper()):\n",
    "            if (df[team[poss]].loc[drive[team[poss]],'Marker'] <= 20):\n",
    "                rz = True\n",
    "            else:\n",
    "                start = df[team[poss]].loc[drive[team[poss]],'Marker'] - 20\n",
    "        else:\n",
    "            start = 100 - df[team[poss]].loc[drive[team[poss]],'Marker'] - 20 # Other side of the field\n",
    "        if not (rz):    # If starting outside Red Zone\n",
    "            end = start - df[team[poss]].loc[drive[team[poss]],'Yds']   # Calculate end of drive\n",
    "            if end <= 20: # If drive ends within 20 yards of red zone to the goal line check if goes in RZ\n",
    "                found = False     # Look for beginning of drive\n",
    "                while (((row+1) < pbp.shape[0]) & (not (found))):\n",
    "#                    if (drive[team[poss]] <= 7):\n",
    "#                        print(team[poss],drive[team[poss]],row,starttime,endtime,bquar)\n",
    "#                    if ((team[poss]=='nor') & (drive['nor'] == 11)):\n",
    "#                        print(row,starttime,endtime,'BB')\n",
    "                    if (int(pbp.loc[row,'Quarter']) < bquar):\n",
    "                        row += 1\n",
    "                    elif (pbp.loc[row,'Time'] <= starttime):\n",
    "                        found = True\n",
    "                    else:\n",
    "                        row += 1\n",
    "#                while ((pbp.loc[row,'Time'] > endtime) & (not (rz)) & (int(pbp.loc[row,'Quarter']) == quarter)):\n",
    "#                if ((team[poss] == 'nor') & (drive['nor'] == 11)):\n",
    "#                    print(row,starttime,endtime,equar,rz)\n",
    "#                while (((pbp.loc[row,'Time'] > endtime) | (int(pbp.loc[row,'Quarter']) < equar)) & \n",
    "#                       (not (rz)) & (not (endofpbp))):\n",
    "                while (not(stop)):\n",
    "                    if ((pbp.loc[row,'Team'] != team[poss].upper()) & (pbp.loc[row,'Location'] <= 20)):\n",
    "                        rz = True\n",
    "                        stop = True\n",
    "                    elif (int(pbp.loc[row,'Quarter']) > equar):\n",
    "#                        if ((team[poss] == 'sfo') & (drive['sfo'] == 7)):\n",
    "#                            print(row,int(pbp.loc[row,'Quarter'],)\n",
    "                        stop = True\n",
    "                    elif (row+1) == pbp.shape[0]:                         # Failsafe in case of bad data\n",
    "                        stop = True\n",
    "                    elif ((int(pbp.loc[row,'Quarter']) == equar) & (pbp.loc[row,'Time'] <= endtime)):\n",
    "                        stop = True\n",
    "                    else:\n",
    "                        row += 1\n",
    "#                    if ((team[poss] == 'sfo') & (drive['sfo'] == 7)):\n",
    "#                        print(row,starttime,endtime,pbp.loc[row,'Time'],pbp.loc[row,'Quarter'])\n",
    "#                if ((drive['sfo'] == 7) & (team[poss] == 'sfo')):\n",
    "#                    print(row,pbp.loc[row,'Location'],rz)\n",
    "        if (rz):\n",
    "            rz_att[team[poss]] += 1 # Increment Red Zone Attempts\n",
    "#            print(drive[team[poss]],row,team[poss],rz_att[team[poss]],'A')\n",
    "#            if df[team[poss]].loc[drive[team[poss]],'Result'] in ['Touchdown','Field Goal']:\n",
    "            if df[team[poss]].loc[drive[team[poss]],'Result'] in ['Touchdown']:\n",
    "                rz_conv[team[poss]] += 1  # If score, increment Red Zone successes \n",
    "#                print(drive[team[poss]],row,team[poss],rz_conv[team[poss]],'C')\n",
    "        drive[team[poss]] += 1  # Increment drive number for team in question\n",
    "\n",
    "    dfyear.loc[(away,gamecode),'RZ_Att'] = rz_att[away]\n",
    "    dfyear.loc[(home,gamecode),'RZ_Att'] = rz_att[home]\n",
    "    dfyear.loc[(away,gamecode),'RZ_Conv'] = rz_conv[away]\n",
    "    dfyear.loc[(home,gamecode),'RZ_Conv'] = rz_conv[home]\n",
    "    dfyear.loc[(away,gamecode),'RZ_Def_Att'] = rz_att[home]\n",
    "    dfyear.loc[(home,gamecode),'RZ_Def_Att'] = rz_att[away]\n",
    "    dfyear.loc[(away,gamecode),'RZ_Def_Conv'] = rz_conv[home]\n",
    "    dfyear.loc[(home,gamecode),'RZ_Def_Conv'] = rz_conv[away]"
   ]
  },
  {
   "cell_type": "code",
   "execution_count": null,
   "metadata": {},
   "outputs": [],
   "source": [
    "adrive"
   ]
  },
  {
   "cell_type": "code",
   "execution_count": null,
   "metadata": {},
   "outputs": [],
   "source": [
    "entry = adrive.loc[drive,colu].split(':')"
   ]
  },
  {
   "cell_type": "code",
   "execution_count": null,
   "metadata": {},
   "outputs": [],
   "source": [
    "print(grouped.shape[0])"
   ]
  },
  {
   "cell_type": "code",
   "execution_count": null,
   "metadata": {},
   "outputs": [],
   "source": [
    "table"
   ]
  },
  {
   "cell_type": "code",
   "execution_count": null,
   "metadata": {},
   "outputs": [],
   "source": [
    "adrive"
   ]
  },
  {
   "cell_type": "code",
   "execution_count": null,
   "metadata": {
    "scrolled": true
   },
   "outputs": [],
   "source": [
    "pbp.iloc[40:80,:]"
   ]
  },
  {
   "cell_type": "code",
   "execution_count": null,
   "metadata": {},
   "outputs": [],
   "source": [
    "intcols=['Points','Points_Opp','Yds_Off_Pass','Yds_Off_Rush','Yds_Def_Pass','Yds_Def_Rush','TD','TD_on_Def',\n",
    "         'FG_Made','FG_Att','RZ_Conv','RZ_Att','RZ_Def_Conv','RZ_Def_Att','Plays','TO_Gained','TO_Lost',\n",
    "         'Yds_Pen','Tackles_Loss']\n",
    "fltcols=['Possession','Sacks_Def','Yds_per_Kickret','Yds_per_Puntret']\n",
    "strcols=['Home/Away', 'Opponent']\n",
    "for colu in intcols: dfyear[colu] = dfyear[colu].astype('int64')\n",
    "for colu in fltcols: dfyear[colu] = dfyear[colu].astype('float64')\n",
    "for colu in strcols: dfyear[colu] = dfyear[colu].astype('str')"
   ]
  },
  {
   "cell_type": "code",
   "execution_count": null,
   "metadata": {},
   "outputs": [],
   "source": [
    "dfyear"
   ]
  },
  {
   "cell_type": "code",
   "execution_count": null,
   "metadata": {},
   "outputs": [],
   "source": [
    "dfyear.info()"
   ]
  },
  {
   "cell_type": "code",
   "execution_count": null,
   "metadata": {},
   "outputs": [],
   "source": [
    "dfyear.describe().iloc[:,0:10]"
   ]
  },
  {
   "cell_type": "code",
   "execution_count": null,
   "metadata": {},
   "outputs": [],
   "source": [
    "    path = 'data/df_step2_'+year+'.data'\n",
    "    with open(path, 'wb') as f:\n",
    "        pickle.dump(dfyear,f)"
   ]
  },
  {
   "cell_type": "code",
   "execution_count": null,
   "metadata": {},
   "outputs": [],
   "source": [
    "len(gc)"
   ]
  },
  {
   "cell_type": "code",
   "execution_count": null,
   "metadata": {},
   "outputs": [],
   "source": [
    "gc.index(gamecode)"
   ]
  },
  {
   "cell_type": "code",
   "execution_count": null,
   "metadata": {},
   "outputs": [],
   "source": [
    "table"
   ]
  },
  {
   "cell_type": "code",
   "execution_count": null,
   "metadata": {},
   "outputs": [],
   "source": []
  }
 ],
 "metadata": {
  "kernelspec": {
   "display_name": "Python 3",
   "language": "python",
   "name": "python3"
  },
  "language_info": {
   "codemirror_mode": {
    "name": "ipython",
    "version": 3
   },
   "file_extension": ".py",
   "mimetype": "text/x-python",
   "name": "python",
   "nbconvert_exporter": "python",
   "pygments_lexer": "ipython3",
   "version": "3.7.4"
  }
 },
 "nbformat": 4,
 "nbformat_minor": 2
}
