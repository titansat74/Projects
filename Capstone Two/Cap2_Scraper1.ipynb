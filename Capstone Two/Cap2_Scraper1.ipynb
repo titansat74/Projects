{
 "cells": [
  {
   "cell_type": "markdown",
   "metadata": {},
   "source": [
    "# NFL Data Scraper 1"
   ]
  },
  {
   "cell_type": "markdown",
   "metadata": {},
   "source": [
    "**<font color='purple'>This scraper accesses the gamelogs of every NFL team to determine the urls from which the game data will be obtained. This scraper, to be used for years 2010-2019, works one year at a time. The gamelogs and dataframes to be used in Scraper 2 are stored in binary files.</font>** "
   ]
  },
  {
   "cell_type": "markdown",
   "metadata": {},
   "source": [
    "**<font color='teal'> First, the necessary packages are loaded, and the structure of the dataframe that will be populated by the acquired data is set up.</font>** "
   ]
  },
  {
   "cell_type": "code",
   "execution_count": 101,
   "metadata": {},
   "outputs": [],
   "source": [
    "import requests\n",
    "import re\n",
    "import pandas as pd\n",
    "import datetime as dt\n",
    "import pickle\n",
    "from dateutil.parser import parse\n",
    "\n",
    "teams = {'Atlanta Falcons':'atl','Buffalo Bills':'buf','Carolina Panthers':'car','Chicago Bears':'chi',\n",
    "         'Cincinnati Bengals':'cin','Cleveland Browns':'cle','Indianapolis Colts':'clt',\n",
    "         'Arizona Cardinals':'crd','Dallas Cowboys':'dal','Denver Broncos':'den','Detroit Lions':'det',\n",
    "         'Green Bay Packers':'gnb','Houston Texans':'htx','Jacksonville Jaguars':'jax',\n",
    "         'Kansas City Chiefs':'kan','Miami Dolphins':'mia','Minnesota Vikings':'min','New Orleans Saints':'nor',\n",
    "         'New England Patriots':'nwe','New York Giants':'nyg','New York Jets':'nyj','Tennessee Titans':'oti',\n",
    "         'Philadelphia Eagles':'phi','Pittsburgh Steelers':'pit','Oakland Raiders':'rai',\n",
    "         'Las Vegas Raiders':'rai','St. Louis Rams':'ram','Los Angeles Rams':'ram','Baltimore Ravens':'rav',\n",
    "         'San Diego Chargers':'sdg','Los Angeles Chargers':'sdg','Seattle Seahawks':'sea',\n",
    "         'San Francisco 49ers':'sfo','Tampa Bay Buccaneers':'tam','Washington Redskins':'was'}\n",
    "\n",
    "# \"org\" is the collection of team abbreviations in the form of a set as due to changes in team names, \n",
    "# multiples team names share common organization, abbreviation. A set gives the unique values.\n",
    "org = set(teams.values())\n",
    "\n",
    "# Index and columns to be used for \"dfyear\" multiindex dataframe with team abbreviations as the primary index \n",
    "# and row number as the temporary secondary index.\n",
    "yearcols = ['Code','Home/Away','Opponent','Points','Points_Opp','Yds_Off_Pass','Yds_Off_Rush','Yds_Def_Pass',\n",
    "            'Yds_Def_Rush','TD','TD_on_Def','FG_Made','FG_Att','RZ_Conv','RZ_Att','RZ_Def_Conv','RZ_Def_Att',\n",
    "            'Possession','Plays','TO_Gained','TO_Lost','Yds_Pen','Sacks_Def','Tackles_Loss','Yds_per_Kickret',\n",
    "            'Yds_per_Puntret']\n",
    "ind = pd.MultiIndex.from_product([org,[i for i in range(16)]],names=['Team','row'])"
   ]
  },
  {
   "cell_type": "markdown",
   "metadata": {},
   "source": [
    "**<font color='teal'>*table* is the raw dataframe obtained from the website. *dfteam* is a preliminary dataframe for a given team and given year used to populate the larger *dfyear* dataframe. It stores the parsed game dates as well as the home/away and opponent columns. These columns are used to formulate the gamecodes, stored in a list, which will be used to access the urls necessary to obtain the bulk of the data.</font>**"
   ]
  },
  {
   "cell_type": "code",
   "execution_count": 100,
   "metadata": {},
   "outputs": [
    {
     "name": "stdout",
     "output_type": "stream",
     "text": [
      "Home/Away    0\n",
      "Opponent     0\n",
      "dtype: int64\n",
      "256\n",
      "Home/Away    0\n",
      "Opponent     0\n",
      "dtype: int64\n",
      "512\n",
      "Home/Away    0\n",
      "Opponent     0\n",
      "dtype: int64\n",
      "768\n",
      "Home/Away    0\n",
      "Opponent     0\n",
      "dtype: int64\n",
      "1024\n",
      "Home/Away    0\n",
      "Opponent     0\n",
      "dtype: int64\n",
      "1280\n",
      "Home/Away    0\n",
      "Opponent     0\n",
      "dtype: int64\n",
      "1536\n",
      "Home/Away    0\n",
      "Opponent     0\n",
      "dtype: int64\n",
      "1792\n",
      "Home/Away    0\n",
      "Opponent     0\n",
      "dtype: int64\n",
      "2048\n",
      "Home/Away    0\n",
      "Opponent     0\n",
      "dtype: int64\n",
      "2304\n",
      "Home/Away    0\n",
      "Opponent     0\n",
      "dtype: int64\n",
      "2560\n"
     ]
    }
   ],
   "source": [
    "years = [str(i) for i in range(2010,2020)]\n",
    "gcodes = []\n",
    "for year in years:\n",
    "    dfyear=pd.DataFrame(index=ind,columns=yearcols)\n",
    "    for team in org:\n",
    "        url = 'https://www.pro-football-reference.com/teams/'+team+'/'+year+'/gamelog/'\n",
    "        res = requests.get(url)        \n",
    "\n",
    "        tableID = 'gamelog'+year\n",
    "        table=pd.read_html(res.text,attrs={'id':tableID},flavor='bs4')\n",
    "        table=table[0]\n",
    "\n",
    "# Columns for \"table\" are renamed for ease in populating our dataframe     \n",
    "\n",
    "        L0 = list(table.columns.get_level_values(0))\n",
    "        L0_mod = ['Event' if 'Unnamed' in L0[i] else L0[i] for i in range(len(L0))]\n",
    "        L0_renmd = dict(zip(L0,L0_mod))\n",
    "        table.rename(columns=L0_renmd,level=0,inplace=True)\n",
    "\n",
    "        dfteam = pd.DataFrame(columns=['Date','Home/Away','Opponent'])\n",
    "\n",
    "# String dates from \"table\" are converted to numerical in proper format for use in url\n",
    "# Special consideration for Janaury, as those dates correspond to following year\n",
    "        dconv = lambda x: (parse(x + ' ' + str(int(year)+1)).strftime('%Y%m%d') \n",
    "                           if 'January' in x else parse(x + ' ' + year).strftime('%Y%m%d'))\n",
    "        dfteam['Date'] = table['Event']['Date'].apply(dconv)\n",
    "\n",
    "# Home and Away designation determines how gamecode is labeled    \n",
    "        dfteam['Home/Away'][table.iloc[:,6] == '@'] = 'A'\n",
    "        dfteam['Home/Away'][table.iloc[:,6] != '@'] = 'H'\n",
    "        dfteam['Opponent'] = table['Event']['Opp']\n",
    "\n",
    "# Gamecodes are calculated to put in list for later url access \n",
    "# and to put in dfyear dataframe for game identification\n",
    "        for row in range(16):\n",
    "            date = dfteam['Date'][row]\n",
    "            if dfteam['Home/Away'][row] == 'H':\n",
    "                hometeam = team\n",
    "            elif dfteam['Home/Away'][row] == 'A':\n",
    "                hometeam = teams[dfteam['Opponent'][row]]\n",
    "            gamecode = date+'0'+hometeam\n",
    "            dfyear.loc[(team,row),'Code'] = gamecode\n",
    "            if gamecode not in gcodes: gcodes.append(gamecode)\n",
    "\n",
    "# Because of \"dfyear\" multiindex, cannot simply copy \"dfteam\" dataframe to \"dfyear\". Must use .values        \n",
    "        dfyear.loc[team,'Home/Away':'Opponent'] = dfteam[['Home/Away','Opponent']].values\n",
    "\n",
    "# Replace row with gamecode in index\n",
    "    dfyear=dfyear.reset_index(level=1,drop=True)\n",
    "    dfyear=dfyear.set_index([dfyear.index,dfyear['Code']])\n",
    "    dfyear.drop('Code',axis=1,inplace=True)\n",
    "\n",
    "# Check for null values, number of gcodes matches with number of games in season (32*16/2=256).\n",
    "#    print(dfyear.loc[:,'Home/Away':'Opponent'].isnull().sum())\n",
    "#    print(len(gcodes))\n",
    "\n",
    "# Store gamecodes and working dataframe in binary files\n",
    "    path = 'data/df_step1_'+year+'.data'\n",
    "    with open(path, 'wb') as f:\n",
    "        pickle.dump(dfyear,f)"
   ]
  },
  {
   "cell_type": "code",
   "execution_count": null,
   "metadata": {},
   "outputs": [],
   "source": [
    "path = 'data/gamecodes.data'\n",
    "with open(path, 'wb') as f:\n",
    "    pickle.dump(gcodes,f)"
   ]
  }
 ],
 "metadata": {
  "kernelspec": {
   "display_name": "Python 3",
   "language": "python",
   "name": "python3"
  },
  "language_info": {
   "codemirror_mode": {
    "name": "ipython",
    "version": 3
   },
   "file_extension": ".py",
   "mimetype": "text/x-python",
   "name": "python",
   "nbconvert_exporter": "python",
   "pygments_lexer": "ipython3",
   "version": "3.7.4"
  }
 },
 "nbformat": 4,
 "nbformat_minor": 2
}
