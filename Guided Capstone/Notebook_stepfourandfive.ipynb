{
 "cells": [
  {
   "cell_type": "markdown",
   "metadata": {
    "colab_type": "text",
    "id": "cf5CmXQCZyF1"
   },
   "source": [
    "# Guided Capstone Step 4. Pre-Processing and Training Data Development"
   ]
  },
  {
   "cell_type": "markdown",
   "metadata": {
    "colab_type": "text",
    "id": "b2jue2jPGJlt"
   },
   "source": [
    "**The Data Science Method**  \n",
    "\n",
    "\n",
    "1.   Problem Identification \n",
    "\n",
    "\n",
    "2.   Data Wrangling \n",
    "  \n",
    " \n",
    "3.   Exploratory Data Analysis   \n",
    "\n",
    "4.   **Pre-processing and Training Data Development**  \n",
    " * Create dummy or indicator features for categorical variables\n",
    "  * Standardize the magnitude of numeric features\n",
    "  * Split into testing and training datasets\n",
    "  * Apply scaler to the testing set\n",
    "5.   Modeling \n",
    "  * Fit Models with Training Data Set\n",
    "  * Review Model Outcomes — Iterate over additional models as needed.\n",
    "  * Identify the Final Model\n",
    "\n",
    "6.   Documentation\n",
    "  * Review the Results\n",
    "  * Present and share your findings - storytelling\n",
    "  * Finalize Code \n",
    "  * Finalize Documentation"
   ]
  },
  {
   "cell_type": "markdown",
   "metadata": {
    "colab_type": "text",
    "id": "K8xfkAqqZyF2"
   },
   "source": [
    "**<font color='teal'> Start by loading the necessary packages as we did in step 3 and printing out our current working directory just to confirm we are in the correct project directory. </font>**"
   ]
  },
  {
   "cell_type": "code",
   "execution_count": 1,
   "metadata": {
    "colab": {},
    "colab_type": "code",
    "id": "ry6WPL5eZyF3"
   },
   "outputs": [],
   "source": [
    "#load python packages\n",
    "import os\n",
    "import pandas as pd\n",
    "import datetime\n",
    "import seaborn as sns\n",
    "import matplotlib.pyplot as plt\n",
    "import numpy as np\n",
    "%matplotlib inline"
   ]
  },
  {
   "cell_type": "code",
   "execution_count": 2,
   "metadata": {},
   "outputs": [
    {
     "data": {
      "text/plain": [
       "'/Users/ewilson/DataScience/Springboard/DS Course/Data Wrangling'"
      ]
     },
     "execution_count": 2,
     "metadata": {},
     "output_type": "execute_result"
    }
   ],
   "source": [
    "os.getcwd()"
   ]
  },
  {
   "cell_type": "markdown",
   "metadata": {
    "colab_type": "text",
    "id": "630T-ogRZyF8"
   },
   "source": [
    "**<font color='teal'>  Load the csv file you created in step 3, remember it should be saved inside your data subfolder and print the first five rows.</font>**"
   ]
  },
  {
   "cell_type": "code",
   "execution_count": 3,
   "metadata": {
    "colab": {},
    "colab_type": "code",
    "id": "dMNbk0u3ZyF9"
   },
   "outputs": [
    {
     "data": {
      "text/html": [
       "<div>\n",
       "<style scoped>\n",
       "    .dataframe tbody tr th:only-of-type {\n",
       "        vertical-align: middle;\n",
       "    }\n",
       "\n",
       "    .dataframe tbody tr th {\n",
       "        vertical-align: top;\n",
       "    }\n",
       "\n",
       "    .dataframe thead th {\n",
       "        text-align: right;\n",
       "    }\n",
       "</style>\n",
       "<table border=\"1\" class=\"dataframe\">\n",
       "  <thead>\n",
       "    <tr style=\"text-align: right;\">\n",
       "      <th></th>\n",
       "      <th>Name</th>\n",
       "      <th>state</th>\n",
       "      <th>summit_elev</th>\n",
       "      <th>vertical_drop</th>\n",
       "      <th>fastQuads</th>\n",
       "      <th>quad</th>\n",
       "      <th>triple</th>\n",
       "      <th>double</th>\n",
       "      <th>surface</th>\n",
       "      <th>total_chairs</th>\n",
       "      <th>...</th>\n",
       "      <th>SkiableTerrain_ac</th>\n",
       "      <th>Snow Making_ac</th>\n",
       "      <th>daysOpenLastYear</th>\n",
       "      <th>yearsOpen</th>\n",
       "      <th>averageSnowfall</th>\n",
       "      <th>AdultWeekday</th>\n",
       "      <th>AdultWeekend</th>\n",
       "      <th>projectedDaysOpen</th>\n",
       "      <th>NightSkiing_ac</th>\n",
       "      <th>clusters</th>\n",
       "    </tr>\n",
       "  </thead>\n",
       "  <tbody>\n",
       "    <tr>\n",
       "      <td>2</td>\n",
       "      <td>Hilltop Ski Area</td>\n",
       "      <td>Alaska</td>\n",
       "      <td>2090</td>\n",
       "      <td>294</td>\n",
       "      <td>0</td>\n",
       "      <td>0</td>\n",
       "      <td>1</td>\n",
       "      <td>0</td>\n",
       "      <td>2</td>\n",
       "      <td>3</td>\n",
       "      <td>...</td>\n",
       "      <td>30.0</td>\n",
       "      <td>30.0</td>\n",
       "      <td>150.000000</td>\n",
       "      <td>36.0</td>\n",
       "      <td>69.0</td>\n",
       "      <td>30.0</td>\n",
       "      <td>34.00000</td>\n",
       "      <td>152.0</td>\n",
       "      <td>30.0</td>\n",
       "      <td>0</td>\n",
       "    </tr>\n",
       "    <tr>\n",
       "      <td>4</td>\n",
       "      <td>Sunrise Park Resort</td>\n",
       "      <td>Arizona</td>\n",
       "      <td>11100</td>\n",
       "      <td>1800</td>\n",
       "      <td>1</td>\n",
       "      <td>2</td>\n",
       "      <td>3</td>\n",
       "      <td>1</td>\n",
       "      <td>0</td>\n",
       "      <td>7</td>\n",
       "      <td>...</td>\n",
       "      <td>800.0</td>\n",
       "      <td>80.0</td>\n",
       "      <td>115.000000</td>\n",
       "      <td>49.0</td>\n",
       "      <td>250.0</td>\n",
       "      <td>74.0</td>\n",
       "      <td>78.00000</td>\n",
       "      <td>104.0</td>\n",
       "      <td>80.0</td>\n",
       "      <td>1</td>\n",
       "    </tr>\n",
       "    <tr>\n",
       "      <td>5</td>\n",
       "      <td>Yosemite Ski &amp; Snowboard Area</td>\n",
       "      <td>California</td>\n",
       "      <td>7800</td>\n",
       "      <td>600</td>\n",
       "      <td>0</td>\n",
       "      <td>0</td>\n",
       "      <td>1</td>\n",
       "      <td>3</td>\n",
       "      <td>1</td>\n",
       "      <td>5</td>\n",
       "      <td>...</td>\n",
       "      <td>88.0</td>\n",
       "      <td>0.0</td>\n",
       "      <td>110.000000</td>\n",
       "      <td>84.0</td>\n",
       "      <td>300.0</td>\n",
       "      <td>47.0</td>\n",
       "      <td>47.00000</td>\n",
       "      <td>107.0</td>\n",
       "      <td>0.0</td>\n",
       "      <td>1</td>\n",
       "    </tr>\n",
       "    <tr>\n",
       "      <td>8</td>\n",
       "      <td>Boreal Mountain Resort</td>\n",
       "      <td>California</td>\n",
       "      <td>7700</td>\n",
       "      <td>500</td>\n",
       "      <td>1</td>\n",
       "      <td>1</td>\n",
       "      <td>3</td>\n",
       "      <td>1</td>\n",
       "      <td>2</td>\n",
       "      <td>8</td>\n",
       "      <td>...</td>\n",
       "      <td>380.0</td>\n",
       "      <td>200.0</td>\n",
       "      <td>150.000000</td>\n",
       "      <td>54.0</td>\n",
       "      <td>400.0</td>\n",
       "      <td>49.0</td>\n",
       "      <td>64.16681</td>\n",
       "      <td>150.0</td>\n",
       "      <td>200.0</td>\n",
       "      <td>1</td>\n",
       "    </tr>\n",
       "    <tr>\n",
       "      <td>9</td>\n",
       "      <td>Dodge Ridge</td>\n",
       "      <td>California</td>\n",
       "      <td>8200</td>\n",
       "      <td>1600</td>\n",
       "      <td>0</td>\n",
       "      <td>1</td>\n",
       "      <td>2</td>\n",
       "      <td>5</td>\n",
       "      <td>4</td>\n",
       "      <td>12</td>\n",
       "      <td>...</td>\n",
       "      <td>862.0</td>\n",
       "      <td>0.0</td>\n",
       "      <td>115.103943</td>\n",
       "      <td>69.0</td>\n",
       "      <td>350.0</td>\n",
       "      <td>78.0</td>\n",
       "      <td>78.00000</td>\n",
       "      <td>140.0</td>\n",
       "      <td>0.0</td>\n",
       "      <td>1</td>\n",
       "    </tr>\n",
       "  </tbody>\n",
       "</table>\n",
       "<p>5 rows × 23 columns</p>\n",
       "</div>"
      ],
      "text/plain": [
       "                            Name       state  summit_elev  vertical_drop  \\\n",
       "2               Hilltop Ski Area      Alaska         2090            294   \n",
       "4            Sunrise Park Resort     Arizona        11100           1800   \n",
       "5  Yosemite Ski & Snowboard Area  California         7800            600   \n",
       "8         Boreal Mountain Resort  California         7700            500   \n",
       "9                    Dodge Ridge  California         8200           1600   \n",
       "\n",
       "   fastQuads  quad  triple  double  surface  total_chairs  ...  \\\n",
       "2          0     0       1       0        2             3  ...   \n",
       "4          1     2       3       1        0             7  ...   \n",
       "5          0     0       1       3        1             5  ...   \n",
       "8          1     1       3       1        2             8  ...   \n",
       "9          0     1       2       5        4            12  ...   \n",
       "\n",
       "   SkiableTerrain_ac  Snow Making_ac  daysOpenLastYear  yearsOpen  \\\n",
       "2               30.0            30.0        150.000000       36.0   \n",
       "4              800.0            80.0        115.000000       49.0   \n",
       "5               88.0             0.0        110.000000       84.0   \n",
       "8              380.0           200.0        150.000000       54.0   \n",
       "9              862.0             0.0        115.103943       69.0   \n",
       "\n",
       "   averageSnowfall  AdultWeekday  AdultWeekend  projectedDaysOpen  \\\n",
       "2             69.0          30.0      34.00000              152.0   \n",
       "4            250.0          74.0      78.00000              104.0   \n",
       "5            300.0          47.0      47.00000              107.0   \n",
       "8            400.0          49.0      64.16681              150.0   \n",
       "9            350.0          78.0      78.00000              140.0   \n",
       "\n",
       "   NightSkiing_ac  clusters  \n",
       "2            30.0         0  \n",
       "4            80.0         1  \n",
       "5             0.0         1  \n",
       "8           200.0         1  \n",
       "9             0.0         1  \n",
       "\n",
       "[5 rows x 23 columns]"
      ]
     },
     "execution_count": 3,
     "metadata": {},
     "output_type": "execute_result"
    }
   ],
   "source": [
    "df = pd.read_csv('data/step3_output.csv', index_col = 0)\n",
    "df.head()"
   ]
  },
  {
   "cell_type": "markdown",
   "metadata": {
    "colab_type": "text",
    "id": "zkBHf9smZyGB"
   },
   "source": [
    "## Create dummy features for categorical variables"
   ]
  },
  {
   "cell_type": "markdown",
   "metadata": {
    "colab_type": "text",
    "id": "vWKHm0NhAnrJ"
   },
   "source": [
    "**<font color='teal'> Create dummy variables for `state`. Add the dummies back to the dataframe and remove the original column for `state`. </font>**\n",
    "\n",
    "Hint: you can see an example of how to execute this in Aiden's article on preprocessing [here](https://medium.com/@aiden.dataminer/the-data-science-method-dsm-pre-processing-and-training-data-development-fd2d75182967). "
   ]
  },
  {
   "cell_type": "code",
   "execution_count": 4,
   "metadata": {},
   "outputs": [],
   "source": [
    "df = pd.concat([df.drop('state', axis = 1), pd.get_dummies(df.state)], axis = 1)"
   ]
  },
  {
   "cell_type": "markdown",
   "metadata": {
    "colab_type": "text",
    "id": "HnDVhE1-ZyGF"
   },
   "source": [
    "## Standardize the magnitude of numeric features"
   ]
  },
  {
   "cell_type": "markdown",
   "metadata": {
    "colab": {},
    "colab_type": "code",
    "id": "gW3D-WlDZyGG"
   },
   "source": [
    "**<font color='teal'> Using sklearn preprocessing standardizes the scale of the features of the dataframe except the name of the resort which we don't need in the dataframe for modeling, so it can be droppped here as well. Also, we want to hold out our response variable(s) so we can have their true values available for model performance review. Let's set `AdultWeekend` to the y variable as our response for scaling and modeling. Later we will go back and consider the `AdultWeekday`, `dayOpenLastYear`, and `projectedDaysOpen`. For now leave them in the development dataframe. </font>**"
   ]
  },
  {
   "cell_type": "code",
   "execution_count": 5,
   "metadata": {
    "colab": {},
    "colab_type": "code",
    "id": "IZL-q-KtAYI6"
   },
   "outputs": [],
   "source": [
    "# first we import the preprocessing package from the sklearn library\n",
    "from sklearn import preprocessing\n",
    "\n",
    "# Declare an explanatory variable, called X,and assign it the result of dropping 'Name' and 'AdultWeekend' from the df\n",
    "X = df.drop(['Name','AdultWeekend'], axis = 1)\n",
    "\n",
    "# Declare a response variable, called y, and assign it the AdultWeekend column of the df \n",
    "y = df.AdultWeekend\n",
    "\n",
    "# Here we use the StandardScaler() method of the preprocessing package, and then call the fit() method with parameter X \n",
    "scaler = preprocessing.StandardScaler().fit(X)\n",
    "\n",
    "# Declare a variable called X_scaled, and assign it the result of calling the transform() method with parameter X \n",
    "X_scaled=scaler.transform(X) "
   ]
  },
  {
   "cell_type": "markdown",
   "metadata": {
    "colab_type": "text",
    "id": "GAT8h4_mZyGK"
   },
   "source": [
    "## Split into training and testing datasets"
   ]
  },
  {
   "cell_type": "markdown",
   "metadata": {
    "colab_type": "text",
    "id": "6rdS8EGeAnrW"
   },
   "source": [
    "**<font color='teal'> Using sklearn model selection import train_test_split, and create a 75/25 split with the y = `AdultWeekend`. We will start by using the adult weekend ticket price as our response variable for modeling.</font>**"
   ]
  },
  {
   "cell_type": "code",
   "execution_count": 6,
   "metadata": {
    "colab": {},
    "colab_type": "code",
    "id": "BSkPut0gguds"
   },
   "outputs": [],
   "source": [
    "# Import the train_test_split function from the sklearn.model_selection utility.  \n",
    "from sklearn.model_selection import train_test_split\n",
    "\n",
    "# Get the 1-dimensional flattened array of our response variable y by calling the ravel() function on y\n",
    "y = np.ravel(y)\n",
    "\n",
    "# Call the train_test_split() function with the first two parameters set to X_scaled and y \n",
    "# Declare four variables, X_train, X_test, y_train and y_test separated by commas \n",
    "X_train, X_test, y_train, y_test = train_test_split(X_scaled, y, test_size = 0.25, random_state = 1)"
   ]
  },
  {
   "cell_type": "markdown",
   "metadata": {
    "colab_type": "text",
    "id": "UayqbwkWAnra"
   },
   "source": [
    "Here we start the actual modeling work. First let's fit a multiple linear regression model to predict the `AdultWeekend` price."
   ]
  },
  {
   "cell_type": "markdown",
   "metadata": {
    "colab_type": "text",
    "id": "83fkLldXFCNd"
   },
   "source": [
    "# Guided Capstone Step 5. Modeling\n"
   ]
  },
  {
   "cell_type": "markdown",
   "metadata": {
    "colab_type": "text",
    "id": "JbZXsVevfr9M"
   },
   "source": [
    "This is the fifth step in the Data Science Method. In the previous steps you cleaned and prepared the datasets. Now it's time to get into the most exciting part: modeling! In this exercise, you'll build three different models and compare each model's performance. In the end, you'll choose the best model for demonstrating insights to Big Mountain management.\n",
    "\n",
    "\n",
    "\n",
    "### **The Data Science Method**  \n",
    "\n",
    "\n",
    "1.   Problem Identification \n",
    "\n",
    "2.   Data Wrangling \n",
    "  \n",
    "3.   Exploratory Data Analysis \n",
    " \n",
    "4.   Pre-processing and Training Data Development\n",
    "\n",
    "5.   **Modeling**\n",
    "  * Fit Models with Training Data Set\n",
    "  * Review Model Outcomes — Iterate over additional models as needed.\n",
    "  * Identify the Final Model\n",
    "\n",
    "6.   Documentation\n",
    "  * Review the Results\n",
    "  * Present and share your findings - storytelling\n",
    "  * Finalize Code \n",
    "  * Finalize Documentation"
   ]
  },
  {
   "cell_type": "markdown",
   "metadata": {
    "colab_type": "text",
    "id": "D_wfsP_-Anra"
   },
   "source": [
    "## Fit Models with a Training Dataset"
   ]
  },
  {
   "cell_type": "markdown",
   "metadata": {
    "colab_type": "text",
    "id": "CoI8S5SwAnrc"
   },
   "source": [
    "**<font color='teal'> Using sklearn, fit the model on your training dataset.</font>**"
   ]
  },
  {
   "cell_type": "markdown",
   "metadata": {
    "colab_type": "text",
    "id": "P_GFr8sRAnrd"
   },
   "source": [
    "#### Model 1"
   ]
  },
  {
   "cell_type": "code",
   "execution_count": 7,
   "metadata": {
    "colab": {},
    "colab_type": "code",
    "id": "fW6K7uOPAnre"
   },
   "outputs": [],
   "source": [
    "#all first model set\n",
    "from sklearn import linear_model\n",
    "from sklearn.metrics import explained_variance_score,mean_absolute_error\n",
    "lm = linear_model.LinearRegression()\n",
    "model = lm.fit(X_train,y_train)"
   ]
  },
  {
   "cell_type": "markdown",
   "metadata": {
    "colab_type": "text",
    "id": "1fHqz9-WAnrg"
   },
   "source": [
    "**<font color='teal'> Predict on the testing dataset and score the model performance with the y_test set and the y-pred values. The explained variance is a measure of the variation explained by the model. This is also known as the R-squared value. </font>**\n",
    "\n",
    "Hint: you will have to use the `predict()` method here as it's used in this [DSM article](https://medium.com/@aiden.dataminer/the-data-science-method-dsm-modeling-56b4233cad1b) about modeling. "
   ]
  },
  {
   "cell_type": "code",
   "execution_count": 8,
   "metadata": {
    "colab": {},
    "colab_type": "code",
    "id": "nIo01lFEAnrh"
   },
   "outputs": [],
   "source": [
    "# Make a variable called y_pred and assign it the result of calling predict() on our model variable with parameter X_test\n",
    "y_pred = lm.predict(X_test)"
   ]
  },
  {
   "cell_type": "code",
   "execution_count": 9,
   "metadata": {},
   "outputs": [
    {
     "name": "stdout",
     "output_type": "stream",
     "text": [
      "56.927323639622024\n"
     ]
    }
   ],
   "source": [
    "print(y.mean())"
   ]
  },
  {
   "cell_type": "code",
   "execution_count": 10,
   "metadata": {},
   "outputs": [
    {
     "data": {
      "text/plain": [
       "array([-1.26050422e-01,  3.11442203e+00, -4.12031111e+12, -4.92977299e+12,\n",
       "       -8.65776698e+12, -1.05994218e+13, -1.01434447e+13,  1.93072806e+13,\n",
       "        2.20329317e-01,  1.77880859e+00,  9.00146484e-01, -1.60058594e+00,\n",
       "        2.08984375e-01,  1.10717773e+00, -3.92578125e-01,  2.02832031e+00,\n",
       "        9.14624023e+00, -2.15429688e+00,  6.87011719e-01,  1.36328125e+00,\n",
       "       -2.48077890e+12, -2.48077890e+12, -8.31920032e+12, -5.48342733e+12,\n",
       "       -5.48342733e+12, -5.98920420e+12, -4.27221120e+12, -3.49831294e+12,\n",
       "       -4.27221120e+12, -5.48342733e+12, -2.48077890e+12, -4.91884632e+12,\n",
       "       -9.21568459e+12, -6.87493615e+12, -3.49831294e+12, -4.91884632e+12,\n",
       "       -2.48077890e+12, -7.98927462e+12,  1.87892084e+06, -5.98920420e+12,\n",
       "       -1.04748143e+13, -4.27221120e+12, -4.91884632e+12, -4.27221120e+12,\n",
       "       -7.98927462e+12, -2.48077890e+12, -2.48077890e+12, -2.48077890e+12,\n",
       "       -4.27221120e+12, -6.87493615e+12, -3.49831294e+12, -4.91884632e+12,\n",
       "       -4.27221120e+12, -7.98927462e+12, -5.48342733e+12])"
      ]
     },
     "execution_count": 10,
     "metadata": {},
     "output_type": "execute_result"
    }
   ],
   "source": [
    "lm.coef_"
   ]
  },
  {
   "cell_type": "markdown",
   "metadata": {
    "colab_type": "text",
    "id": "N4YS0WE2Anrk"
   },
   "source": [
    "## Review Model Outcomes — Iterate over additional models as needed"
   ]
  },
  {
   "cell_type": "code",
   "execution_count": 11,
   "metadata": {
    "colab": {},
    "colab_type": "code",
    "id": "HSh9sGIYAnrk"
   },
   "outputs": [],
   "source": [
    "# You might want to use the explained_variance_score() and mean_absolute_error() metrics.\n",
    "# To do so, you will need to import them from sklearn.metrics. \n",
    "# You can plug y_test and y_pred into the functions to evaluate the model"
   ]
  },
  {
   "cell_type": "code",
   "execution_count": 12,
   "metadata": {
    "colab": {},
    "colab_type": "code",
    "id": "ihzeo8tqAnro"
   },
   "outputs": [],
   "source": [
    "evs = explained_variance_score(y_test, y_pred)\n",
    "mae = mean_absolute_error(y_test, y_pred)"
   ]
  },
  {
   "cell_type": "code",
   "execution_count": 13,
   "metadata": {},
   "outputs": [
    {
     "name": "stdout",
     "output_type": "stream",
     "text": [
      "-1.3006984602263551e+23\n"
     ]
    }
   ],
   "source": [
    "print(evs)"
   ]
  },
  {
   "cell_type": "code",
   "execution_count": 14,
   "metadata": {},
   "outputs": [
    {
     "name": "stdout",
     "output_type": "stream",
     "text": [
      "750117599547.7969\n"
     ]
    }
   ],
   "source": [
    "print(mae)"
   ]
  },
  {
   "cell_type": "markdown",
   "metadata": {
    "colab_type": "text",
    "id": "NWJcOuSdAnrr"
   },
   "source": [
    "**<font color='teal'> Print the intercept value from the linear model. </font>**\n",
    "\n",
    "Hint: our linear regression model `lm` has an attribute `intercept_` for the intercept"
   ]
  },
  {
   "cell_type": "code",
   "execution_count": 15,
   "metadata": {
    "colab": {},
    "colab_type": "code",
    "id": "3WzWejn6Anrt"
   },
   "outputs": [
    {
     "name": "stdout",
     "output_type": "stream",
     "text": [
      "187529399941.681\n"
     ]
    }
   ],
   "source": [
    "print(lm.intercept_)"
   ]
  },
  {
   "cell_type": "markdown",
   "metadata": {
    "colab_type": "text",
    "id": "edajrenAAnrv"
   },
   "source": [
    "**<font color='teal'> The intercept is the mean `AdultWeekend` price for all the resorts given the other characteristics. The addition or subtraction of each of the coefficient values in the regression are numeric adjustments applied to the intercept to provide a particular observation's value for the resulting `AdultWeekend` value. Also, because we took the time to scale our x values in the training data, we can compare each of the coeeficients for the features to determine the feature importances. Print the coefficient values from the linear model and sort in descending order to identify the top ten most important features.</font>** \n",
    "\n",
    "\n",
    "Hint: make sure to review the absolute value of the coefficients, because the adjustment may be positive or negative, but what we are looking for is the magnitude of impact on our response variable."
   ]
  },
  {
   "cell_type": "code",
   "execution_count": 16,
   "metadata": {
    "colab": {},
    "colab_type": "code",
    "id": "FEKc_lmZAnrw"
   },
   "outputs": [
    {
     "name": "stdout",
     "output_type": "stream",
     "text": [
      "                   LR Coefficient\n",
      "total_chairs         1.930728e+13\n",
      "double               1.059942e+13\n",
      "New York             1.047481e+13\n",
      "surface              1.014344e+13\n",
      "Michigan             9.215685e+12\n",
      "triple               8.657767e+12\n",
      "California           8.319200e+12\n",
      "Wisconsin            7.989275e+12\n",
      "Pennsylvania         7.989275e+12\n",
      "New Hampshire        7.989275e+12\n",
      "Minnesota            6.874936e+12\n",
      "Vermont              6.874936e+12\n",
      "Idaho                5.989204e+12\n",
      "New Mexico           5.989204e+12\n",
      "Wyoming              5.483427e+12\n",
      "Maine                5.483427e+12\n",
      "Colorado             5.483427e+12\n",
      "Connecticut          5.483427e+12\n",
      "quad                 4.929773e+12\n",
      "Montana              4.918846e+12\n",
      "Washington           4.918846e+12\n",
      "Ohio                 4.918846e+12\n",
      "Massachusetts        4.918846e+12\n",
      "Oregon               4.272211e+12\n",
      "Utah                 4.272211e+12\n",
      "Iowa                 4.272211e+12\n",
      "Illinois             4.272211e+12\n",
      "West Virginia        4.272211e+12\n",
      "North Carolina       4.272211e+12\n",
      "fastQuads            4.120311e+12\n",
      "Indiana              3.498313e+12\n",
      "Missouri             3.498313e+12\n",
      "Virginia             3.498313e+12\n",
      "South Dakota         2.480779e+12\n",
      "Arizona              2.480779e+12\n",
      "Alaska               2.480779e+12\n",
      "Nevada               2.480779e+12\n",
      "Maryland             2.480779e+12\n",
      "Rhode Island         2.480779e+12\n",
      "Tennessee            2.480779e+12\n",
      "New Jersey           1.878921e+06\n",
      "AdultWeekday         9.146240e+00\n",
      "vertical_drop        3.114422e+00\n",
      "projectedDaysOpen    2.154297e+00\n",
      "averageSnowfall      2.028320e+00\n",
      "TerrainParks         1.778809e+00\n",
      "SkiableTerrain_ac    1.600586e+00\n",
      "clusters             1.363281e+00\n",
      "daysOpenLastYear     1.107178e+00\n",
      "LongestRun_mi        9.001465e-01\n",
      "NightSkiing_ac       6.870117e-01\n",
      "yearsOpen            3.925781e-01\n",
      "Runs                 2.203293e-01\n",
      "Snow Making_ac       2.089844e-01\n",
      "summit_elev          1.260504e-01\n"
     ]
    }
   ],
   "source": [
    "# You might want to make a pandas DataFrame displaying the coefficients for each state like so: \n",
    "# pd.DataFrame(abs(lm.coef_), X.columns, columns=['Coefficient'])\n",
    "coef = pd.DataFrame(abs(lm.coef_), X.columns, columns=['LR Coefficient'])\n",
    "print(coef.sort_values('LR Coefficient', ascending = False))"
   ]
  },
  {
   "cell_type": "markdown",
   "metadata": {},
   "source": [
    "<font color='red'> In this analysis, states were among the top ten but did not completely comprise the top ten. However, further sensitivity analysis revealed that dropping the resorts from Tennessee and New Jersey eliminated the very high EVS and MAE values as well as the unrealistic intercept value. "
   ]
  },
  {
   "cell_type": "code",
   "execution_count": 17,
   "metadata": {},
   "outputs": [
    {
     "data": {
      "text/plain": [
       "(array([139]),)"
      ]
     },
     "execution_count": 17,
     "metadata": {},
     "output_type": "execute_result"
    }
   ],
   "source": [
    "np.where(X.Tennessee == 1)"
   ]
  },
  {
   "cell_type": "code",
   "execution_count": 18,
   "metadata": {},
   "outputs": [],
   "source": [
    "X = X.drop(X.index[139])\n",
    "y = np.delete(y, 139)\n",
    "X = X.drop('Tennessee', axis = 1)"
   ]
  },
  {
   "cell_type": "code",
   "execution_count": 25,
   "metadata": {},
   "outputs": [
    {
     "data": {
      "text/plain": [
       "(array([89]),)"
      ]
     },
     "execution_count": 25,
     "metadata": {},
     "output_type": "execute_result"
    }
   ],
   "source": [
    "np.where(X['New Jersey'] == 1)"
   ]
  },
  {
   "cell_type": "code",
   "execution_count": 26,
   "metadata": {},
   "outputs": [],
   "source": [
    "X = X.drop(X.index[89])\n",
    "y = np.delete(y, 89)\n",
    "X = X.drop('New Jersey', axis = 1)"
   ]
  },
  {
   "cell_type": "code",
   "execution_count": 27,
   "metadata": {},
   "outputs": [
    {
     "name": "stdout",
     "output_type": "stream",
     "text": [
      "0.7268700581291341 5.712543768294177\n",
      "                   LR Coefficient\n",
      "New York             2.446011e+13\n",
      "Michigan             2.152421e+13\n",
      "California           1.943261e+13\n",
      "Wisconsin            1.866264e+13\n",
      "Pennsylvania         1.866264e+13\n",
      "New Hampshire        1.866264e+13\n",
      "Vermont              1.606135e+13\n",
      "Minnesota            1.606135e+13\n",
      "Idaho                1.399308e+13\n",
      "New Mexico           1.399308e+13\n",
      "Wyoming              1.281184e+13\n",
      "Maine                1.281184e+13\n",
      "Colorado             1.281184e+13\n",
      "Connecticut          1.281184e+13\n",
      "Montana              1.149311e+13\n",
      "Ohio                 1.149311e+13\n",
      "Washington           1.149311e+13\n",
      "Massachusetts        1.149311e+13\n",
      "Oregon               9.982555e+12\n",
      "Utah                 9.982555e+12\n",
      "Iowa                 9.982555e+12\n",
      "Illinois             9.982555e+12\n",
      "West Virginia        9.982555e+12\n",
      "North Carolina       9.982555e+12\n",
      "Indiana              8.174520e+12\n",
      "Missouri             8.174520e+12\n",
      "Virginia             8.174520e+12\n",
      "total_chairs         7.684243e+12\n",
      "South Dakota         5.797037e+12\n",
      "Arizona              5.797037e+12\n",
      "Alaska               5.797037e+12\n",
      "Nevada               5.797037e+12\n",
      "Maryland             5.797037e+12\n",
      "Rhode Island         5.797037e+12\n",
      "double               4.223024e+12\n",
      "surface              4.032788e+12\n",
      "triple               3.433614e+12\n",
      "quad                 1.937484e+12\n",
      "fastQuads            1.641383e+12\n",
      "AdultWeekday         9.237701e+00\n",
      "vertical_drop        2.064669e+00\n",
      "projectedDaysOpen    1.968628e+00\n",
      "averageSnowfall      1.767090e+00\n",
      "TerrainParks         1.639160e+00\n",
      "clusters             1.366699e+00\n",
      "SkiableTerrain_ac    1.190918e+00\n",
      "daysOpenLastYear     1.032227e+00\n",
      "Runs                 8.489451e-01\n",
      "LongestRun_mi        6.291504e-01\n",
      "NightSkiing_ac       4.541016e-01\n",
      "summit_elev          2.575394e-01\n",
      "Snow Making_ac       2.197266e-01\n",
      "yearsOpen            4.022217e-02\n"
     ]
    }
   ],
   "source": [
    "# Here we use the StandardScaler() method of the preprocessing package, and then call the fit() method with parameter X \n",
    "scaler = preprocessing.StandardScaler().fit(X)\n",
    "\n",
    "# Declare a variable called X_scaled, and assign it the result of calling the transform() method with parameter X \n",
    "X_scaled=scaler.transform(X) \n",
    "X_train, X_test, y_train, y_test = train_test_split(X_scaled, y, test_size = 0.25, random_state = 1)\n",
    "lm = linear_model.LinearRegression()\n",
    "model = lm.fit(X_train,y_train)\n",
    "y_pred = lm.predict(X_test)\n",
    "evs = explained_variance_score(y_test, y_pred)\n",
    "mae = mean_absolute_error(y_test, y_pred)\n",
    "print(evs, mae)\n",
    "coef = pd.DataFrame(abs(lm.coef_), X.columns, columns=['LR Coefficient'])\n",
    "print(coef.sort_values('LR Coefficient', ascending = False))"
   ]
  },
  {
   "cell_type": "code",
   "execution_count": 28,
   "metadata": {},
   "outputs": [
    {
     "name": "stdout",
     "output_type": "stream",
     "text": [
      "56.22784544168519\n"
     ]
    }
   ],
   "source": [
    "print(lm.intercept_)"
   ]
  },
  {
   "cell_type": "markdown",
   "metadata": {},
   "source": [
    "<font color='red'> Here, states comprise the top ten in coefficients. Furthermore, dropping 'summit elev' and 'fastQuads' produced coefficients on the same order. Now, states are no longer in the top ten. "
   ]
  },
  {
   "cell_type": "code",
   "execution_count": 31,
   "metadata": {},
   "outputs": [],
   "source": [
    "#X = X.drop('summit_elev', axis = 1)\n",
    "X = X.drop('fastQuads' , axis = 1)"
   ]
  },
  {
   "cell_type": "code",
   "execution_count": 32,
   "metadata": {},
   "outputs": [
    {
     "name": "stdout",
     "output_type": "stream",
     "text": [
      "0.7264982780770959 5.710387777104386\n",
      "                   LR Coefficient\n",
      "AdultWeekday             9.206597\n",
      "vertical_drop            2.083710\n",
      "projectedDaysOpen        1.945219\n",
      "Idaho                    1.932505\n",
      "total_chairs             1.833699\n",
      "averageSnowfall          1.778894\n",
      "Virginia                 1.706084\n",
      "North Carolina           1.680652\n",
      "West Virginia            1.634301\n",
      "TerrainParks             1.630626\n",
      "Montana                  1.518044\n",
      "New Hampshire            1.502989\n",
      "Massachusetts            1.471986\n",
      "Wyoming                  1.463871\n",
      "surface                  1.448968\n",
      "clusters                 1.394460\n",
      "Pennsylvania             1.239540\n",
      "quad                     1.224517\n",
      "SkiableTerrain_ac        1.173744\n",
      "Oregon                   1.044655\n",
      "daysOpenLastYear         1.023171\n",
      "Rhode Island             0.929927\n",
      "Utah                     0.885527\n",
      "Runs                     0.845167\n",
      "New Mexico               0.837335\n",
      "South Dakota             0.768940\n",
      "California               0.670837\n",
      "LongestRun_mi            0.644396\n",
      "triple                   0.626196\n",
      "Connecticut              0.619401\n",
      "Ohio                     0.614196\n",
      "New York                 0.574030\n",
      "Maine                    0.569305\n",
      "Maryland                 0.554565\n",
      "Washington               0.518560\n",
      "Indiana                  0.497487\n",
      "NightSkiing_ac           0.449445\n",
      "Arizona                  0.444526\n",
      "Wisconsin                0.349940\n",
      "Michigan                 0.349646\n",
      "Iowa                     0.288716\n",
      "Snow Making_ac           0.244181\n",
      "Colorado                 0.244016\n",
      "Vermont                  0.231010\n",
      "Minnesota                0.222174\n",
      "Missouri                 0.172176\n",
      "Nevada                   0.170531\n",
      "double                   0.151906\n",
      "Illinois                 0.109885\n",
      "Alaska                   0.053751\n",
      "yearsOpen                0.038138\n"
     ]
    }
   ],
   "source": [
    "# Here we use the StandardScaler() method of the preprocessing package, and then call the fit() method with parameter X \n",
    "scaler = preprocessing.StandardScaler().fit(X)\n",
    "\n",
    "# Declare a variable called X_scaled, and assign it the result of calling the transform() method with parameter X \n",
    "X_scaled=scaler.transform(X) \n",
    "X_train, X_test, y_train, y_test = train_test_split(X_scaled, y, test_size = 0.25, random_state = 1)\n",
    "lm = linear_model.LinearRegression()\n",
    "model = lm.fit(X_train,y_train)\n",
    "y_pred = lm.predict(X_test)\n",
    "evs = explained_variance_score(y_test, y_pred)\n",
    "mae = mean_absolute_error(y_test, y_pred)\n",
    "print(evs, mae)\n",
    "coef = pd.DataFrame(abs(lm.coef_), X.columns, columns=['LR Coefficient'])\n",
    "print(coef.sort_values('LR Coefficient', ascending = False))"
   ]
  },
  {
   "cell_type": "markdown",
   "metadata": {
    "colab_type": "text",
    "id": "BpdALMoAAnry"
   },
   "source": [
    "**<font color='teal'>You should see that the top ten important features are different states. However, the state is not something the managers at the Big Mountain Resort can do anything about. Given that we care more about actionable traits associated with ticket pricing, rebuild the model without the state features and compare the results. </font>**\n",
    "\n",
    "Hint: Try to construct another model using exactly the steps we followed above. "
   ]
  },
  {
   "cell_type": "markdown",
   "metadata": {
    "colab_type": "text",
    "id": "-mHYA1BzAnrz"
   },
   "source": [
    "#### Model 2"
   ]
  },
  {
   "cell_type": "code",
   "execution_count": 51,
   "metadata": {
    "colab": {},
    "colab_type": "code",
    "id": "Pz1YXAdiAnr0"
   },
   "outputs": [
    {
     "name": "stdout",
     "output_type": "stream",
     "text": [
      "0.5199029021516768 7.534344353225305\n",
      "                   LR Coefficient\n",
      "AdultWeekday             9.798295\n",
      "clusters                 3.563150\n",
      "summit_elev              3.039686\n",
      "vertical_drop            2.770467\n",
      "TerrainParks             2.458459\n",
      "quad                     1.971225\n",
      "projectedDaysOpen        1.779138\n",
      "daysOpenLastYear         1.708601\n",
      "SkiableTerrain_ac        1.231396\n",
      "Snow Making_ac           1.161605\n",
      "surface                  1.156217\n",
      "LongestRun_mi            0.843377\n",
      "averageSnowfall          0.593908\n",
      "yearsOpen                0.541296\n",
      "fastQuads                0.396649\n",
      "double                   0.359271\n",
      "total_chairs             0.321779\n",
      "triple                   0.321172\n",
      "Runs                     0.270724\n",
      "NightSkiing_ac           0.204499\n"
     ]
    }
   ],
   "source": [
    "X = df.drop(['Name','AdultWeekend'], axis = 1)\n",
    "X = X.drop(X.loc[:,'Alaska':'Wyoming'], axis = 1)\n",
    "y = df.AdultWeekend\n",
    "scaler = preprocessing.StandardScaler().fit(X)\n",
    "X_scaled=scaler.transform(X) \n",
    "X_train, X_test, y_train, y_test = train_test_split(X_scaled, y, test_size = 0.25, random_state = 1)\n",
    "lm = linear_model.LinearRegression()\n",
    "model = lm.fit(X_train,y_train)\n",
    "y_pred = lm.predict(X_test)\n",
    "evs = explained_variance_score(y_test, y_pred)\n",
    "mae = mean_absolute_error(y_test, y_pred)\n",
    "print(evs, mae)\n",
    "coef = pd.DataFrame(abs(lm.coef_), X.columns, columns=['LR Coefficient'])\n",
    "print(coef.sort_values('LR Coefficient', ascending = False))"
   ]
  },
  {
   "cell_type": "markdown",
   "metadata": {
    "colab_type": "text",
    "id": "JWjQLr3LAnr6"
   },
   "source": [
    "**<font color='teal'> When reviewing our new model coefficients, we see `summit_elev` is now in the number two spot. This is also difficult to change from a management prespective and highly correlated with `base_elev` and `vertical_drop`.  This time, rebuild the model without the state features and without the `summit_elev` and without `base_elev`and compare the results. </font>**"
   ]
  },
  {
   "cell_type": "markdown",
   "metadata": {
    "colab": {},
    "colab_type": "code",
    "id": "nM1EGf16Anr2"
   },
   "source": [
    "<font color='red'> There is no variable `base_elev`. However, we drop `summit_elev` owing to the high correlation with `vertical_drop`. "
   ]
  },
  {
   "cell_type": "markdown",
   "metadata": {
    "colab_type": "text",
    "id": "RXqvcn93Anr7"
   },
   "source": [
    "#### Model 3"
   ]
  },
  {
   "cell_type": "code",
   "execution_count": 47,
   "metadata": {
    "colab": {},
    "colab_type": "code",
    "id": "6eugnDNNAnr8"
   },
   "outputs": [
    {
     "name": "stdout",
     "output_type": "stream",
     "text": [
      "0.5234888253827599 7.516552245262173\n",
      "                   LR Coefficient\n",
      "AdultWeekday             9.663492\n",
      "clusters                 2.920544\n",
      "vertical_drop            2.747260\n",
      "TerrainParks             2.426006\n",
      "SkiableTerrain_ac        2.388305\n",
      "quad                     1.890437\n",
      "projectedDaysOpen        1.531200\n",
      "Snow Making_ac           1.393790\n",
      "averageSnowfall          1.360252\n",
      "daysOpenLastYear         1.292275\n",
      "LongestRun_mi            0.960063\n",
      "surface                  0.807948\n",
      "yearsOpen                0.702537\n",
      "Runs                     0.595943\n",
      "fastQuads                0.525431\n",
      "total_chairs             0.423877\n",
      "double                   0.405318\n",
      "NightSkiing_ac           0.153651\n",
      "triple                   0.069161\n"
     ]
    }
   ],
   "source": [
    "X = X.loc[:,'vertical_drop':'clusters']scaler = preprocessing.StandardScaler().fit(X)\n",
    "X_scaled=scaler.transform(X) \n",
    "X_train, X_test, y_train, y_test = train_test_split(X_scaled, y, test_size = 0.25, random_state = 1)\n",
    "lm = linear_model.LinearRegression()\n",
    "model = lm.fit(X_train,y_train)\n",
    "y_pred = lm.predict(X_test)\n",
    "evs = explained_variance_score(y_test, y_pred)\n",
    "mae = mean_absolute_error(y_test, y_pred)\n",
    "print(evs, mae)\n",
    "coef = pd.DataFrame(abs(lm.coef_), X.columns, columns=['LR Coefficient'])\n",
    "print(coef.sort_values('LR Coefficient', ascending = False))"
   ]
  },
  {
   "cell_type": "markdown",
   "metadata": {},
   "source": [
    "#### Model 4"
   ]
  },
  {
   "cell_type": "code",
   "execution_count": 57,
   "metadata": {
    "colab": {},
    "colab_type": "code",
    "id": "pq0pW7G9Anr_"
   },
   "outputs": [
    {
     "name": "stdout",
     "output_type": "stream",
     "text": [
      "0.6704867855898777 6.793017125811121\n",
      "                   LR Coefficient\n",
      "AdultWeekday             9.867637\n",
      "clusters                 2.381993\n",
      "TerrainParks             2.257187\n",
      "vertical_drop            2.017393\n",
      "SkiableTerrain_ac        1.754270\n",
      "quad                     1.651570\n",
      "averageSnowfall          1.504968\n",
      "daysOpenLastYear         1.449228\n",
      "projectedDaysOpen        1.303399\n",
      "LongestRun_mi            1.169990\n",
      "Snow Making_ac           1.074732\n",
      "surface                  0.983276\n",
      "double                   0.604628\n",
      "yearsOpen                0.415096\n",
      "total_chairs             0.386606\n",
      "triple                   0.284055\n",
      "fastQuads                0.126444\n",
      "Runs                     0.107195\n",
      "NightSkiing_ac           0.069649\n"
     ]
    }
   ],
   "source": [
    "X = df.drop(['Name','AdultWeekend','summit_elev'], axis = 1)\n",
    "X = X.drop(X.loc[:,'Alaska':'Wyoming'], axis = 1)\n",
    "y = df.AdultWeekend\n",
    "X = X.drop(X.index[139])\n",
    "y = y.drop(y.index[139])\n",
    "X = X.drop(X.index[89])\n",
    "y = y.drop(y.index[89])\n",
    "scaler = preprocessing.StandardScaler().fit(X)\n",
    "X_scaled=scaler.transform(X) \n",
    "X_train, X_test, y_train, y_test = train_test_split(X_scaled, y, test_size = 0.25, random_state = 1)\n",
    "lm = linear_model.LinearRegression()\n",
    "model = lm.fit(X_train,y_train)\n",
    "y_pred = lm.predict(X_test)\n",
    "evs = explained_variance_score(y_test, y_pred)\n",
    "mae = mean_absolute_error(y_test, y_pred)\n",
    "print(evs, mae)\n",
    "coef = pd.DataFrame(abs(lm.coef_), X.columns, columns=['LR Coefficient'])\n",
    "print(coef.sort_values('LR Coefficient', ascending = False))"
   ]
  },
  {
   "cell_type": "markdown",
   "metadata": {
    "colab_type": "text",
    "id": "MJvQMns6AnsI"
   },
   "source": [
    "## Identify the Final Model"
   ]
  },
  {
   "cell_type": "markdown",
   "metadata": {
    "colab_type": "text",
    "id": "LD7-3iLcAnsK"
   },
   "source": [
    "**<font color='teal'> Review the model performances in the table below and choose the best model for proving insights to Big Mountain management about what features are driving ski resort lift ticket prices. Type your choice in the final markdown cell — you will discuss this selection more in the next step of the guided casptone. </font>**"
   ]
  },
  {
   "cell_type": "markdown",
   "metadata": {
    "colab_type": "text",
    "id": "La5S9fRPAnsK"
   },
   "source": [
    "| Model | Explained Variance| Mean Absolute Error|Features Dropped|\n",
    "| --- | --- | --- | --- |\n",
    "| Model 1. | -1.300e+23| 7.501e+11|  |---|\n",
    "| Model 1a.| 0.726| 5.710| 'summit_elev','base_elev','fastQuads',Tennessee & New Jersey obs|\n",
    "| Model 2. | 0.520| 7.534| 'state'|\n",
    "| Model 3. | 0.523| 7.517| 'state','summit_elev','base_elev'|| \n",
    "| Model 4. | 0.670| 6.793| 'state','summit_elev','base_elev',Tennessee & New Jersey obs|"
   ]
  },
  {
   "cell_type": "markdown",
   "metadata": {
    "colab_type": "text",
    "id": "T2c-zn7TAnsL"
   },
   "source": [
    "Model Selection:"
   ]
  },
  {
   "cell_type": "markdown",
   "metadata": {
    "colab": {},
    "colab_type": "code",
    "id": "CgC0eMBrAnsM"
   },
   "source": [
    "Although perhaps not the response desired here, removing the single Tennessee and New Jersey observations along with dropping the `summit_elev`, `base_elev`, and `state` features seem to provide the best results. Furthermore, as shown earlier, including the state features, with the appropriate `Tennessee` and `New Jersey` columns seem to provide the best results. "
   ]
  },
  {
   "cell_type": "code",
   "execution_count": null,
   "metadata": {},
   "outputs": [],
   "source": []
  }
 ],
 "metadata": {
  "colab": {
   "collapsed_sections": [
    "RtEspslPZyGY",
    "s0DokMkAZyGc",
    "2iuitnKcZyHS",
    "iAWQxougZyHW",
    "ThMTimlBZyHZ",
    "QwZ-LkjXZyHt",
    "srtXEA3N4-Y9",
    "ChVreJupZyIA",
    "zDgSSsq1ZyID",
    "I3GYKWfi5Llg",
    "pmMvrhbI-viE",
    "ZXDPkW3UZyIX",
    "Dnc_vHQLZyId",
    "daJxuJ-dZyIg",
    "mAQ-oHiPZyIn",
    "hnGOsp3mZyIp"
   ],
   "name": "GuidedCapstoneStep5.ipynb",
   "provenance": []
  },
  "kernelspec": {
   "display_name": "Python 3",
   "language": "python",
   "name": "python3"
  },
  "language_info": {
   "codemirror_mode": {
    "name": "ipython",
    "version": 3
   },
   "file_extension": ".py",
   "mimetype": "text/x-python",
   "name": "python",
   "nbconvert_exporter": "python",
   "pygments_lexer": "ipython3",
   "version": "3.7.4"
  },
  "toc": {
   "base_numbering": "0",
   "nav_menu": {},
   "number_sections": true,
   "sideBar": true,
   "skip_h1_title": false,
   "title_cell": "Table of Contents",
   "title_sidebar": "Contents",
   "toc_cell": true,
   "toc_position": {
    "height": "calc(100% - 180px)",
    "left": "10px",
    "top": "150px",
    "width": "288px"
   },
   "toc_section_display": true,
   "toc_window_display": true
  }
 },
 "nbformat": 4,
 "nbformat_minor": 1
}
